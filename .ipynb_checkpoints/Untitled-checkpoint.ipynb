{
 "cells": [
  {
   "cell_type": "code",
   "execution_count": 8,
   "id": "7711ae6e-a51f-4624-a07d-54e823a6529b",
   "metadata": {
    "tags": []
   },
   "outputs": [
    {
     "name": "stdout",
     "output_type": "stream",
     "text": [
      "Collecting textblob\n",
      "  Downloading textblob-0.17.1-py2.py3-none-any.whl (636 kB)\n",
      "\u001b[2K     \u001b[90m━━━━━━━━━━━━━━━━━━━━━━━━━━━━━━━━━━━━━━━\u001b[0m \u001b[32m636.8/636.8 kB\u001b[0m \u001b[31m6.4 MB/s\u001b[0m eta \u001b[36m0:00:00\u001b[0ma \u001b[36m0:00:01\u001b[0m\n",
      "\u001b[?25hRequirement already satisfied: nltk>=3.1 in /Users/daniellelott/anaconda3/lib/python3.11/site-packages (from textblob) (3.8.1)\n",
      "Requirement already satisfied: click in /Users/daniellelott/anaconda3/lib/python3.11/site-packages (from nltk>=3.1->textblob) (8.0.4)\n",
      "Requirement already satisfied: joblib in /Users/daniellelott/anaconda3/lib/python3.11/site-packages (from nltk>=3.1->textblob) (1.2.0)\n",
      "Requirement already satisfied: regex>=2021.8.3 in /Users/daniellelott/anaconda3/lib/python3.11/site-packages (from nltk>=3.1->textblob) (2022.7.9)\n",
      "Requirement already satisfied: tqdm in /Users/daniellelott/anaconda3/lib/python3.11/site-packages (from nltk>=3.1->textblob) (4.66.1)\n",
      "\u001b[33mDEPRECATION: nb-black 1.0.7 has a non-standard dependency specifier black>='19.3'; python_version >= \"3.6\". pip 23.3 will enforce this behaviour change. A possible replacement is to upgrade to a newer version of nb-black or contact the author to suggest that they release a version with a conforming dependency specifiers. Discussion can be found at https://github.com/pypa/pip/issues/12063\u001b[0m\u001b[33m\n",
      "\u001b[0mInstalling collected packages: textblob\n",
      "Successfully installed textblob-0.17.1\n",
      "Note: you may need to restart the kernel to use updated packages.\n"
     ]
    }
   ],
   "source": [
    "pip install textblob"
   ]
  },
  {
   "cell_type": "code",
   "execution_count": 32,
   "id": "cf4daa30-91b5-43ed-88fe-bf044a568364",
   "metadata": {
    "tags": []
   },
   "outputs": [],
   "source": [
    "import json\n",
    "import requests\n",
    "import pandas as pd\n",
    "from textblob import TextBlob  # Import TextBlob for sentiment analysis"
   ]
  },
  {
   "cell_type": "code",
   "execution_count": 37,
   "id": "d43db625-d209-4899-8048-cd3a25eabd11",
   "metadata": {
    "tags": []
   },
   "outputs": [
    {
     "ename": "KeyError",
     "evalue": "'tags'",
     "output_type": "error",
     "traceback": [
      "\u001b[0;31m---------------------------------------------------------------------------\u001b[0m",
      "\u001b[0;31mKeyError\u001b[0m                                  Traceback (most recent call last)",
      "Cell \u001b[0;32mIn[37], line 44\u001b[0m\n\u001b[1;32m     40\u001b[0m df \u001b[38;5;241m=\u001b[39m pd\u001b[38;5;241m.\u001b[39mDataFrame(results)\n\u001b[1;32m     42\u001b[0m \u001b[38;5;66;03m# Content Shift Analysis\u001b[39;00m\n\u001b[1;32m     43\u001b[0m \u001b[38;5;66;03m# Extract hashtags from toots (using 'tags' key)\u001b[39;00m\n\u001b[0;32m---> 44\u001b[0m hashtags \u001b[38;5;241m=\u001b[39m df[\u001b[38;5;124m'\u001b[39m\u001b[38;5;124mtags\u001b[39m\u001b[38;5;124m'\u001b[39m]\u001b[38;5;241m.\u001b[39mapply(\u001b[38;5;28;01mlambda\u001b[39;00m x: [tag[\u001b[38;5;124m'\u001b[39m\u001b[38;5;124mname\u001b[39m\u001b[38;5;124m'\u001b[39m] \u001b[38;5;28;01mfor\u001b[39;00m tag \u001b[38;5;129;01min\u001b[39;00m x] \u001b[38;5;28;01mif\u001b[39;00m x \u001b[38;5;28;01melse\u001b[39;00m [])\u001b[38;5;241m.\u001b[39mexplode()\u001b[38;5;241m.\u001b[39mdropna()\n\u001b[1;32m     46\u001b[0m \u001b[38;5;66;03m# Calculate the frequency of each hashtag\u001b[39;00m\n\u001b[1;32m     47\u001b[0m popular_hashtags \u001b[38;5;241m=\u001b[39m hashtags\u001b[38;5;241m.\u001b[39mvalue_counts()\n",
      "File \u001b[0;32m~/anaconda3/lib/python3.11/site-packages/pandas/core/frame.py:3896\u001b[0m, in \u001b[0;36mDataFrame.__getitem__\u001b[0;34m(self, key)\u001b[0m\n\u001b[1;32m   3894\u001b[0m \u001b[38;5;28;01mif\u001b[39;00m \u001b[38;5;28mself\u001b[39m\u001b[38;5;241m.\u001b[39mcolumns\u001b[38;5;241m.\u001b[39mnlevels \u001b[38;5;241m>\u001b[39m \u001b[38;5;241m1\u001b[39m:\n\u001b[1;32m   3895\u001b[0m     \u001b[38;5;28;01mreturn\u001b[39;00m \u001b[38;5;28mself\u001b[39m\u001b[38;5;241m.\u001b[39m_getitem_multilevel(key)\n\u001b[0;32m-> 3896\u001b[0m indexer \u001b[38;5;241m=\u001b[39m \u001b[38;5;28mself\u001b[39m\u001b[38;5;241m.\u001b[39mcolumns\u001b[38;5;241m.\u001b[39mget_loc(key)\n\u001b[1;32m   3897\u001b[0m \u001b[38;5;28;01mif\u001b[39;00m is_integer(indexer):\n\u001b[1;32m   3898\u001b[0m     indexer \u001b[38;5;241m=\u001b[39m [indexer]\n",
      "File \u001b[0;32m~/anaconda3/lib/python3.11/site-packages/pandas/core/indexes/range.py:418\u001b[0m, in \u001b[0;36mRangeIndex.get_loc\u001b[0;34m(self, key)\u001b[0m\n\u001b[1;32m    416\u001b[0m         \u001b[38;5;28;01mraise\u001b[39;00m \u001b[38;5;167;01mKeyError\u001b[39;00m(key) \u001b[38;5;28;01mfrom\u001b[39;00m \u001b[38;5;21;01merr\u001b[39;00m\n\u001b[1;32m    417\u001b[0m \u001b[38;5;28;01mif\u001b[39;00m \u001b[38;5;28misinstance\u001b[39m(key, Hashable):\n\u001b[0;32m--> 418\u001b[0m     \u001b[38;5;28;01mraise\u001b[39;00m \u001b[38;5;167;01mKeyError\u001b[39;00m(key)\n\u001b[1;32m    419\u001b[0m \u001b[38;5;28mself\u001b[39m\u001b[38;5;241m.\u001b[39m_check_indexing_error(key)\n\u001b[1;32m    420\u001b[0m \u001b[38;5;28;01mraise\u001b[39;00m \u001b[38;5;167;01mKeyError\u001b[39;00m(key)\n",
      "\u001b[0;31mKeyError\u001b[0m: 'tags'"
     ]
    }
   ],
   "source": [
    "import json\n",
    "import requests\n",
    "import pandas as pd\n",
    "from textblob import TextBlob\n",
    "\n",
    "hashtag = 'twitter'\n",
    "URL = f'https://mastodon.social/api/v1/timelines/tag/{hashtag}'\n",
    "params = {\n",
    "    'limit': 70\n",
    "}\n",
    "\n",
    "start_date = pd.Timestamp('2022-01-01', tz='utc')\n",
    "end_date = pd.Timestamp('2023-08-31', tz='utc')\n",
    "\n",
    "results = []\n",
    "\n",
    "while True:\n",
    "    r = requests.get(URL, params=params)\n",
    "    toots = json.loads(r.text)\n",
    "\n",
    "    if len(toots) == 0:\n",
    "        break\n",
    "    \n",
    "    for t in toots:\n",
    "        timestamp = pd.Timestamp(t['created_at'], tz='utc')\n",
    "        \n",
    "        if start_date <= timestamp <= end_date:\n",
    "            results.append(t)\n",
    "            \n",
    "        elif timestamp < start_date:\n",
    "            is_end = True\n",
    "            break\n",
    "    \n",
    "    if is_end:\n",
    "        break\n",
    "    \n",
    "    max_id = toots[-1]['id']\n",
    "    params['max_id'] = max_id\n",
    "\n",
    "df = pd.DataFrame(results)\n",
    "\n",
    "# Content Shift Analysis\n",
    "# Extract hashtags from toots (using 'tags' key)\n",
    "hashtags = df['tags'].apply(lambda x: [tag['name'] for tag in x] if x else []).explode().dropna()\n",
    "\n",
    "# Calculate the frequency of each hashtag\n",
    "popular_hashtags = hashtags.value_counts()\n",
    "\n",
    "print(\"Popular Hashtags:\")\n",
    "print(popular_hashtags.head(10))\n",
    "\n",
    "# Sentiment Analysis\n",
    "df['sentiment'] = df['content'].apply(lambda x: TextBlob(str(x)).sentiment.polarity)\n",
    "average_sentiment = df['sentiment'].mean()\n",
    "\n",
    "print(f\"Average Sentiment: {average_sentiment}\")"
   ]
  },
  {
   "cell_type": "code",
   "execution_count": 16,
   "id": "cbc953c5-e257-4250-aefb-5633c0e9ea39",
   "metadata": {},
   "outputs": [
    {
     "data": {
      "text/plain": [
       "(1, 24)"
      ]
     },
     "execution_count": 16,
     "metadata": {},
     "output_type": "execute_result"
    }
   ],
   "source": [
    "df.shape"
   ]
  },
  {
   "cell_type": "code",
   "execution_count": 43,
   "id": "b87518a5-da10-4bca-8530-2e8a9b9feb03",
   "metadata": {
    "tags": []
   },
   "outputs": [
    {
     "name": "stdout",
     "output_type": "stream",
     "text": [
      "Columns: Index(['id', 'created_at', 'in_reply_to_id', 'in_reply_to_account_id',\n",
      "       'sensitive', 'spoiler_text', 'visibility', 'language', 'uri', 'url',\n",
      "       'replies_count', 'reblogs_count', 'favourites_count', 'edited_at',\n",
      "       'content', 'reblog', 'media_attachments', 'mentions', 'tags', 'emojis',\n",
      "       'poll', 'account.id', 'account.username', 'account.acct',\n",
      "       'account.display_name', 'account.locked', 'account.bot',\n",
      "       'account.discoverable', 'account.group', 'account.created_at',\n",
      "       'account.note', 'account.url', 'account.uri', 'account.avatar',\n",
      "       'account.avatar_static', 'account.header', 'account.header_static',\n",
      "       'account.followers_count', 'account.following_count',\n",
      "       'account.statuses_count', 'account.last_status_at', 'account.emojis',\n",
      "       'account.fields', 'card.url', 'card.title', 'card.description',\n",
      "       'card.language', 'card.type', 'card.author_name', 'card.author_url',\n",
      "       'card.provider_name', 'card.provider_url', 'card.html', 'card.width',\n",
      "       'card.height', 'card.image', 'card.image_description', 'card.embed_url',\n",
      "       'card.blurhash', 'card.published_at'],\n",
      "      dtype='object')\n",
      "Number of Rows: 1\n",
      "Sample Row: id                                                        111302413792842028\n",
      "created_at                                          2023-04-10T03:04:33.000Z\n",
      "in_reply_to_id                                                          None\n",
      "in_reply_to_account_id                                                  None\n",
      "sensitive                                                              False\n",
      "spoiler_text                                                                \n",
      "visibility                                                            public\n",
      "language                                                                  en\n",
      "uri                        https://syphoncontinuity.com/blog/two-truths-a...\n",
      "url                        https://syphoncontinuity.com/blog/two-truths-a...\n",
      "replies_count                                                              0\n",
      "reblogs_count                                                              0\n",
      "favourites_count                                                           0\n",
      "edited_at                                           2023-10-26T21:23:01.000Z\n",
      "content                    <p>Two truths and a lie.</p><p><a href=\"https:...\n",
      "reblog                                                                  None\n",
      "media_attachments          [{'id': '111303418663206964', 'type': 'image',...\n",
      "mentions                                                                  []\n",
      "tags                       [{'name': 'comic', 'url': 'https://mastodon.so...\n",
      "emojis                                                                    []\n",
      "poll                                                                    None\n",
      "account.id                                                111298971170096250\n",
      "account.username                                            ashermankarlsson\n",
      "account.acct                           ashermankarlsson@syphoncontinuity.com\n",
      "account.display_name                                       Syphon Continuity\n",
      "account.locked                                                         False\n",
      "account.bot                                                            False\n",
      "account.discoverable                                                    True\n",
      "account.group                                                          False\n",
      "account.created_at                                  2013-04-29T00:00:00.000Z\n",
      "account.note                                         <p>a novel series</p>\\n\n",
      "account.url                https://syphoncontinuity.com/blog/@ashermankar...\n",
      "account.uri                https://syphoncontinuity.com/blog/@ashermankar...\n",
      "account.avatar             https://files.mastodon.social/cache/accounts/a...\n",
      "account.avatar_static      https://files.mastodon.social/cache/accounts/a...\n",
      "account.header             https://mastodon.social/headers/original/missi...\n",
      "account.header_static      https://mastodon.social/headers/original/missi...\n",
      "account.followers_count                                                    1\n",
      "account.following_count                                                    0\n",
      "account.statuses_count                                                   146\n",
      "account.last_status_at                                            2023-12-01\n",
      "account.emojis                                                            []\n",
      "account.fields                                                            []\n",
      "card.url                   https://syphoncontinuity.com/blog/two-truths-a...\n",
      "card.title                       After Dark – One Person – Syphon Continuity\n",
      "card.description                                                            \n",
      "card.language                                                             en\n",
      "card.type                                                               link\n",
      "card.author_name                                                            \n",
      "card.author_url                                                             \n",
      "card.provider_name                                                          \n",
      "card.provider_url                                                           \n",
      "card.html                                                                   \n",
      "card.width                                                                 0\n",
      "card.height                                                                0\n",
      "card.image                                                              None\n",
      "card.image_description                                                      \n",
      "card.embed_url                                                              \n",
      "card.blurhash                                                           None\n",
      "card.published_at                                                       None\n",
      "Name: 0, dtype: object\n"
     ]
    }
   ],
   "source": [
    "import json\n",
    "import requests\n",
    "import pandas as pd\n",
    "\n",
    "hashtag = 'twitter'\n",
    "URL = f'https://mastodon.social/api/v1/timelines/tag/{hashtag}'\n",
    "params = {\n",
    "    'limit': 70\n",
    "}\n",
    "\n",
    "start_date = pd.Timestamp('2022-01-01', tz='utc')\n",
    "end_date = pd.Timestamp('2023-08-31', tz='utc')\n",
    "\n",
    "results = []\n",
    "is_end = False\n",
    "\n",
    "while not is_end:\n",
    "    try:\n",
    "        r = requests.get(URL, params=params)\n",
    "        r.raise_for_status()\n",
    "\n",
    "        api_response = json.loads(r.text)\n",
    "\n",
    "        if len(api_response) == 0:\n",
    "            break\n",
    "\n",
    "        for t in api_response:\n",
    "            timestamp = pd.Timestamp(t['created_at'], tz='utc')\n",
    "\n",
    "            if start_date <= timestamp <= end_date:\n",
    "                results.append(t)\n",
    "\n",
    "            elif timestamp < start_date:\n",
    "                is_end = True\n",
    "                break\n",
    "\n",
    "        if is_end:\n",
    "            break\n",
    "\n",
    "        max_id = api_response[-1]['id']\n",
    "        params['max_id'] = max_id\n",
    "\n",
    "    except requests.exceptions.HTTPError as errh:\n",
    "        print(\"HTTP Error:\", errh)\n",
    "        break\n",
    "    except requests.exceptions.RequestException as err:\n",
    "        print(\"Error:\", err)\n",
    "        break\n",
    "\n",
    "df = pd.json_normalize(results)\n",
    "\n",
    "\n",
    "print(\"Columns:\", df.columns)\n",
    "\n",
    "\n",
    "print(\"Number of Rows:\", len(df))\n",
    "\n",
    "\n",
    "if not df.empty:\n",
    "    print(\"Sample Row:\", df.iloc[0])\n",
    "else:\n",
    "    print(\"DataFrame is empty.\")"
   ]
  },
  {
   "cell_type": "code",
   "execution_count": 42,
   "id": "8c27ce05-7d76-4986-bc70-cd41b4b9829f",
   "metadata": {
    "tags": []
   },
   "outputs": [
    {
     "data": {
      "text/plain": [
       "(1, 60)"
      ]
     },
     "execution_count": 42,
     "metadata": {},
     "output_type": "execute_result"
    }
   ],
   "source": [
    "df.shape"
   ]
  },
  {
   "cell_type": "code",
   "execution_count": 31,
   "id": "754aa926-e0a2-40a2-8a8d-a893444ac9d2",
   "metadata": {
    "tags": []
   },
   "outputs": [
    {
     "ename": "IndexError",
     "evalue": "single positional indexer is out-of-bounds",
     "output_type": "error",
     "traceback": [
      "\u001b[0;31m---------------------------------------------------------------------------\u001b[0m",
      "\u001b[0;31mIndexError\u001b[0m                                Traceback (most recent call last)",
      "Cell \u001b[0;32mIn[31], line 1\u001b[0m\n\u001b[0;32m----> 1\u001b[0m \u001b[38;5;28mprint\u001b[39m(df\u001b[38;5;241m.\u001b[39miloc[\u001b[38;5;241m0\u001b[39m])\n",
      "File \u001b[0;32m~/anaconda3/lib/python3.11/site-packages/pandas/core/indexing.py:1153\u001b[0m, in \u001b[0;36m_LocationIndexer.__getitem__\u001b[0;34m(self, key)\u001b[0m\n\u001b[1;32m   1150\u001b[0m axis \u001b[38;5;241m=\u001b[39m \u001b[38;5;28mself\u001b[39m\u001b[38;5;241m.\u001b[39maxis \u001b[38;5;129;01mor\u001b[39;00m \u001b[38;5;241m0\u001b[39m\n\u001b[1;32m   1152\u001b[0m maybe_callable \u001b[38;5;241m=\u001b[39m com\u001b[38;5;241m.\u001b[39mapply_if_callable(key, \u001b[38;5;28mself\u001b[39m\u001b[38;5;241m.\u001b[39mobj)\n\u001b[0;32m-> 1153\u001b[0m \u001b[38;5;28;01mreturn\u001b[39;00m \u001b[38;5;28mself\u001b[39m\u001b[38;5;241m.\u001b[39m_getitem_axis(maybe_callable, axis\u001b[38;5;241m=\u001b[39maxis)\n",
      "File \u001b[0;32m~/anaconda3/lib/python3.11/site-packages/pandas/core/indexing.py:1714\u001b[0m, in \u001b[0;36m_iLocIndexer._getitem_axis\u001b[0;34m(self, key, axis)\u001b[0m\n\u001b[1;32m   1711\u001b[0m     \u001b[38;5;28;01mraise\u001b[39;00m \u001b[38;5;167;01mTypeError\u001b[39;00m(\u001b[38;5;124m\"\u001b[39m\u001b[38;5;124mCannot index by location index with a non-integer key\u001b[39m\u001b[38;5;124m\"\u001b[39m)\n\u001b[1;32m   1713\u001b[0m \u001b[38;5;66;03m# validate the location\u001b[39;00m\n\u001b[0;32m-> 1714\u001b[0m \u001b[38;5;28mself\u001b[39m\u001b[38;5;241m.\u001b[39m_validate_integer(key, axis)\n\u001b[1;32m   1716\u001b[0m \u001b[38;5;28;01mreturn\u001b[39;00m \u001b[38;5;28mself\u001b[39m\u001b[38;5;241m.\u001b[39mobj\u001b[38;5;241m.\u001b[39m_ixs(key, axis\u001b[38;5;241m=\u001b[39maxis)\n",
      "File \u001b[0;32m~/anaconda3/lib/python3.11/site-packages/pandas/core/indexing.py:1647\u001b[0m, in \u001b[0;36m_iLocIndexer._validate_integer\u001b[0;34m(self, key, axis)\u001b[0m\n\u001b[1;32m   1645\u001b[0m len_axis \u001b[38;5;241m=\u001b[39m \u001b[38;5;28mlen\u001b[39m(\u001b[38;5;28mself\u001b[39m\u001b[38;5;241m.\u001b[39mobj\u001b[38;5;241m.\u001b[39m_get_axis(axis))\n\u001b[1;32m   1646\u001b[0m \u001b[38;5;28;01mif\u001b[39;00m key \u001b[38;5;241m>\u001b[39m\u001b[38;5;241m=\u001b[39m len_axis \u001b[38;5;129;01mor\u001b[39;00m key \u001b[38;5;241m<\u001b[39m \u001b[38;5;241m-\u001b[39mlen_axis:\n\u001b[0;32m-> 1647\u001b[0m     \u001b[38;5;28;01mraise\u001b[39;00m \u001b[38;5;167;01mIndexError\u001b[39;00m(\u001b[38;5;124m\"\u001b[39m\u001b[38;5;124msingle positional indexer is out-of-bounds\u001b[39m\u001b[38;5;124m\"\u001b[39m)\n",
      "\u001b[0;31mIndexError\u001b[0m: single positional indexer is out-of-bounds"
     ]
    }
   ],
   "source": [
    "import requests\n",
    "import json\n",
    "import pandas as pd\n",
    "\n",
    "hashtag = 'twitter'\n",
    "URL = f'https://mastodon.social/api/v1/timelines/tag/{hashtag}'\n",
    "params = {\n",
    "    'limit': 70\n",
    "}\n",
    "\n",
    "start_date = pd.Timestamp('2022-01-01', tz='utc')\n",
    "end_date = pd.Timestamp('2023-08-31', tz='utc')\n",
    "\n",
    "results = []\n",
    "is_end = False\n",
    "\n",
    "while True:\n",
    "    r = requests.get(URL, params=params)\n",
    "    api_response = json.loads(r.text)\n",
    "\n",
    "    if len(api_response) == 0:\n",
    "        break\n",
    "\n",
    "    for t in api_response:\n",
    "        timestamp = pd.Timestamp(t['created_at'], tz='utc')\n",
    "\n",
    "        if timestamp >= start_date:\n",
    "            results.append(t)\n",
    "        else:\n",
    "            is_end = True\n",
    "            break\n",
    "\n",
    "    if is_end:\n",
    "        break\n",
    "\n",
    "    max_id = api_response[-1]['id']\n",
    "    params['max_id'] = max_id\n",
    "\n",
    "df = pd.json_normalize(results)\n",
    "\n",
    "print(\"Columns:\", df.columns)\n",
    "\n",
    "print(\"Number of Rows:\", len(df))\n",
    "\n",
    "if not df.empty:\n",
    "    print(\"Sample Row:\", df.iloc[0])\n",
    "else:\n",
    "    print(\"DataFrame is empty.\")"
   ]
  },
  {
   "cell_type": "code",
   "execution_count": null,
   "id": "2ea3d501-0572-422a-b815-318b4eb3512b",
   "metadata": {
    "tags": []
   },
   "outputs": [],
   "source": []
  },
  {
   "cell_type": "code",
   "execution_count": null,
   "id": "63fbb949-7dc7-4f82-be0b-e3b9e815e80a",
   "metadata": {},
   "outputs": [],
   "source": []
  },
  {
   "cell_type": "code",
   "execution_count": null,
   "id": "b0870465-6405-4cd4-b97c-66bf9db7dc6a",
   "metadata": {},
   "outputs": [],
   "source": []
  },
  {
   "cell_type": "code",
   "execution_count": null,
   "id": "16ba47eb-8b77-4540-a3f0-c263eb985ef8",
   "metadata": {},
   "outputs": [],
   "source": []
  },
  {
   "cell_type": "code",
   "execution_count": null,
   "id": "3d96a839-323b-4ba3-9ede-fb5f247b2ab1",
   "metadata": {},
   "outputs": [],
   "source": []
  }
 ],
 "metadata": {
  "kernelspec": {
   "display_name": "Python 3 (ipykernel)",
   "language": "python",
   "name": "python3"
  },
  "language_info": {
   "codemirror_mode": {
    "name": "ipython",
    "version": 3
   },
   "file_extension": ".py",
   "mimetype": "text/x-python",
   "name": "python",
   "nbconvert_exporter": "python",
   "pygments_lexer": "ipython3",
   "version": "3.11.5"
  }
 },
 "nbformat": 4,
 "nbformat_minor": 5
}
