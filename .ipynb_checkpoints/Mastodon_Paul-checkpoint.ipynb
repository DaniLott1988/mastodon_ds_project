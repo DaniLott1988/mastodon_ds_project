{
 "cells": [
  {
   "cell_type": "markdown",
   "id": "1a1d3464-0342-4b52-b760-4801ae39c184",
   "metadata": {},
   "source": [
    "# Importing Libraries"
   ]
  },
  {
   "cell_type": "code",
   "execution_count": 26,
   "id": "69946fe5-7425-4fb8-aa40-e85cf218b7ce",
   "metadata": {
    "tags": []
   },
   "outputs": [],
   "source": [
    "import pandas as pd\n",
    "\n",
    "import matplotlib.pyplot as plt\n",
    "import plotly.graph_objects as go\n",
    "import seaborn as sns\n",
    "from wordcloud import WordCloud\n",
    "\n",
    "from collections import Counter\n"
   ]
  },
  {
   "cell_type": "markdown",
   "id": "774eddb3-a956-445f-8e8f-d59919580092",
   "metadata": {},
   "source": [
    "# Importing Data"
   ]
  },
  {
   "cell_type": "code",
   "execution_count": 27,
   "id": "7a0d62a3-bfab-4389-a0a3-d5f88fe13e3d",
   "metadata": {
    "tags": []
   },
   "outputs": [
    {
     "name": "stderr",
     "output_type": "stream",
     "text": [
      "C:\\Users\\Carlo\\AppData\\Local\\Temp\\ipykernel_11248\\1377534109.py:11: DtypeWarning:\n",
      "\n",
      "Columns (62,66,67,68,71,72,96,99,101,102,103,104,108,109,112,113,114,115,116,117,118,119,120,121,122,123,124,125,126,130,131,132,133,134,135,136,137,138,139,140,141,142,143,146,151,154,155) have mixed types. Specify dtype option on import or set low_memory=False.\n",
      "\n"
     ]
    }
   ],
   "source": [
    "# These are all data frames without cleaning and specific column selection \n",
    "\n",
    "argentina=pd.read_csv('argentina.csv')\n",
    "gaza=pd.read_csv('gaza.csv')\n",
    "israel=pd.read_csv('israel.csv')\n",
    "milei=pd.read_csv('milei.csv')\n",
    "missuniverse=pd.read_csv('MissUniverseThailand2023.csv')\n",
    "ons=pd.read_csv('ons.csv')\n",
    "spotify=pd.read_csv('spotify.csv')\n",
    "thanksgiving=pd.read_csv('thanksgiving.csv')\n",
    "trump=pd.read_csv('trump.csv')\n",
    "twitter=pd.read_csv('twitter.csv')\n",
    "\n",
    "# List of uncleaned df \n",
    "df_uncleaned_list=[argentina,gaza,israel,milei,ons,spotify,thanksgiving,trump,twitter,missuniverse] "
   ]
  },
  {
   "cell_type": "code",
   "execution_count": 28,
   "id": "41dcf629-4b5f-426c-bb1d-401677d764d0",
   "metadata": {
    "tags": []
   },
   "outputs": [
    {
     "name": "stdout",
     "output_type": "stream",
     "text": [
      "(1413, 96)\n",
      "(12325, 95)\n",
      "(10999, 95)\n",
      "(425, 65)\n",
      "(9, 65)\n",
      "(2094, 95)\n",
      "(90, 65)\n",
      "(4448, 157)\n",
      "(4630, 98)\n",
      "(1, 44)\n"
     ]
    }
   ],
   "source": [
    "# Chech shape of uncleaned data frames\n",
    "\n",
    "for df in df_uncleaned_list:\n",
    "    print(df.shape)"
   ]
  },
  {
   "cell_type": "markdown",
   "id": "35bf8d3d-36c5-4992-9c13-010542158dea",
   "metadata": {},
   "source": [
    "# Create DF to work with"
   ]
  },
  {
   "cell_type": "code",
   "execution_count": 29,
   "id": "46828d95-b8ab-4428-aead-1df86a661206",
   "metadata": {
    "tags": []
   },
   "outputs": [],
   "source": [
    "# List with columns of interest to our analysis\n",
    "\n",
    "column_list=['id', 'created_at', 'in_reply_to_id', 'in_reply_to_account_id','tags','language', 'replies_count', 'reblogs_count', 'favourites_count',\n",
    " 'content','spoiler_text','media_attachments','mentions','account.id', 'account.username','account.display_name', 'account.bot','account.created_at', \n",
    "'account.followers_count', 'account.following_count', 'account.statuses_count', 'account.last_status_at']"
   ]
  },
  {
   "cell_type": "code",
   "execution_count": 30,
   "id": "fdf1bf0c-7ba8-4bfb-b230-8b96db0e4a54",
   "metadata": {
    "tags": []
   },
   "outputs": [],
   "source": [
    "# Create dataframes with specific columns form column_list\n",
    "\n",
    "df_argentina=argentina[column_list]\n",
    "df_gaza=gaza[column_list]\n",
    "df_israel=israel[column_list]\n",
    "df_milei=milei[column_list]\n",
    "df_missuniverse=missuniverse[column_list]\n",
    "df_spotify=spotify[column_list]\n",
    "df_thanksgiving=thanksgiving[column_list]\n",
    "df_trump=trump[column_list]\n",
    "df_twitter=twitter[column_list]\n",
    "df_ons=ons[column_list]"
   ]
  },
  {
   "cell_type": "code",
   "execution_count": 31,
   "id": "9009cfa4-0b95-45dd-908e-b75df535ff60",
   "metadata": {
    "tags": []
   },
   "outputs": [],
   "source": [
    "# List of data frames with same columns \n",
    "\n",
    "df_list_final=[df_argentina,df_gaza,df_israel,df_milei,df_missuniverse,df_spotify,df_thanksgiving,df_trump,df_twitter,df_ons]"
   ]
  },
  {
   "cell_type": "code",
   "execution_count": 32,
   "id": "d1069dcd-721f-4250-8b8d-6a968e4c5081",
   "metadata": {
    "tags": []
   },
   "outputs": [],
   "source": [
    "# Create df from all individual dataframes: note that columns have not been cleaned before\n",
    "\n",
    "df=pd.concat(df_list_final)#%%HTML"
   ]
  },
  {
   "cell_type": "code",
   "execution_count": 33,
   "id": "0e9fa220-bab0-4760-8296-13ae1e31ebf1",
   "metadata": {
    "tags": []
   },
   "outputs": [
    {
     "data": {
      "text/plain": [
       "(36434, 22)"
      ]
     },
     "execution_count": 33,
     "metadata": {},
     "output_type": "execute_result"
    }
   ],
   "source": [
    "df.shape"
   ]
  },
  {
   "cell_type": "code",
   "execution_count": 34,
   "id": "f6aad433-0e22-4e6b-bb1f-48b126b4bcd3",
   "metadata": {
    "scrolled": true,
    "tags": []
   },
   "outputs": [
    {
     "data": {
      "text/plain": [
       "Index(['id', 'created_at', 'in_reply_to_id', 'in_reply_to_account_id', 'tags',\n",
       "       'language', 'replies_count', 'reblogs_count', 'favourites_count',\n",
       "       'content', 'spoiler_text', 'media_attachments', 'mentions',\n",
       "       'account.id', 'account.username', 'account.display_name', 'account.bot',\n",
       "       'account.created_at', 'account.followers_count',\n",
       "       'account.following_count', 'account.statuses_count',\n",
       "       'account.last_status_at'],\n",
       "      dtype='object')"
      ]
     },
     "execution_count": 34,
     "metadata": {},
     "output_type": "execute_result"
    }
   ],
   "source": [
    "# final dataframe with uncleaned olumn 'content' (which stil includes HTML tags etc.)\n",
    "df.columns"
   ]
  },
  {
   "cell_type": "code",
   "execution_count": 35,
   "id": "2276a83f-ac27-4b6e-9fb7-e9a745a358f6",
   "metadata": {
    "tags": []
   },
   "outputs": [],
   "source": [
    "# the final cleaned version is to be found in Danielle's repo on github, it is called mastodon_final_v2.csv\n",
    "df_cleaned=pd.read_csv('mastodon_final_v2.csv')"
   ]
  },
  {
   "cell_type": "markdown",
   "id": "abd9e736-e0df-431c-86e5-321ff5be47f7",
   "metadata": {},
   "source": [
    "### Most popular Hashtags amongst sample"
   ]
  },
  {
   "cell_type": "code",
   "execution_count": 36,
   "id": "09181650-e6e2-4458-a8f1-2d4fb40c0543",
   "metadata": {
    "tags": []
   },
   "outputs": [
    {
     "name": "stdout",
     "output_type": "stream",
     "text": [
      "gaza: 18015 occurrences\n",
      "israel: 17857 occurrences\n",
      "palestine: 7075 occurrences\n",
      "hamas: 5323 occurrences\n",
      "twitter: 4776 occurrences\n",
      "trump: 4615 occurrences\n",
      "genocide: 2284 occurrences\n",
      "news: 2253 occurrences\n",
      "spotify: 2103 occurrences\n",
      "argentina: 1638 occurrences\n"
     ]
    }
   ],
   "source": [
    "from collections import Counter\n",
    "\n",
    "# Assuming you have already defined df_list\n",
    "# df_list = [argentina, gaza, israel, milei, ons, spotify, thanksgiving, trump, twitter]\n",
    "\n",
    "# Extract hashtags from the 'tags' column in each DataFrame\n",
    "all_hashtags = []\n",
    "\n",
    "for df in df_list_final:\n",
    "    if 'tags' in df.columns:\n",
    "        hashtags = df['tags'].apply(lambda x: [] if pd.isna(x) else [tag['name'] for tag in eval(x)])\n",
    "        all_hashtags.extend(hashtag for hashtags_list in hashtags for hashtag in hashtags_list)\n",
    "\n",
    "# Count the occurrences of each hashtag\n",
    "hashtag_counts = Counter(all_hashtags)\n",
    "\n",
    "# Display the most common hashtags\n",
    "most_common_hashtags = hashtag_counts.most_common(10)  # Change 10 to the desired number of top hashtags\n",
    "for hashtag, count in most_common_hashtags:\n",
    "    print(f'{hashtag}: {count} occurrences')"
   ]
  },
  {
   "cell_type": "markdown",
   "id": "df96acd4-4284-4f3d-bc29-64f31dd65451",
   "metadata": {},
   "source": [
    "TODO\n",
    "\n",
    "- plot this\n",
    "- compare with https://www.twitter-trending.com/worldwide/statistics in a plot - twitter_hastag_list which is ordered by most occurences:: plot this against"
   ]
  },
  {
   "cell_type": "code",
   "execution_count": 37,
   "id": "f17188b3-5959-49d2-aeb3-49ac8ba3ca33",
   "metadata": {
    "tags": []
   },
   "outputs": [
    {
     "data": {
      "image/png": "[encoded data removed]",
      "text/plain": [
       "<Figure size 1000x600 with 1 Axes>"
      ]
     },
     "metadata": {},
     "output_type": "display_data"
    }
   ],
   "source": [
    "#import matplotlib.pyplot as plt\n",
    "#import pandas as pd\n",
    "#from collections import Counter\n",
    "\n",
    "# Assuming you have already defined df_list_final\n",
    "# df_list_final = [argentina, gaza, israel, milei, ons, spotify, thanksgiving, trump, twitter]\n",
    "\n",
    "# Assuming you have already defined the code to extract hashtags and count occurrences\n",
    "\n",
    "# Extract hashtags and count occurrences\n",
    "all_hashtags = []\n",
    "for df in df_list_final:\n",
    "    if 'tags' in df.columns:\n",
    "        hashtags = df['tags'].apply(lambda x: [] if pd.isna(x) else [tag['name'] for tag in eval(x)])\n",
    "        all_hashtags.extend(hashtag for hashtags_list in hashtags for hashtag in hashtags_list)\n",
    "\n",
    "# Count the occurrences of each hashtag\n",
    "hashtag_counts = Counter(all_hashtags)\n",
    "\n",
    "# Display the most common hashtags\n",
    "most_common_hashtags = hashtag_counts.most_common(10)  # Change 10 to the desired number of top hashtags\n",
    "\n",
    "# Create a DataFrame from the most common hashtags\n",
    "df_most_common = pd.DataFrame(most_common_hashtags, columns=['Hashtag', 'Occurrences'])\n",
    "\n",
    "# Plot the data\n",
    "plt.figure(figsize=(10, 6))\n",
    "plt.bar(df_most_common['Hashtag'], df_most_common['Occurrences'], color='skyblue')\n",
    "plt.xlabel('Hashtags')\n",
    "plt.ylabel('Occurrences')\n",
    "plt.title('Top Hashtags')\n",
    "plt.xticks(rotation=45, ha='right')\n",
    "plt.tight_layout()\n",
    "\n",
    "# Show the plot\n",
    "plt.show()"
   ]
  },
  {
   "cell_type": "code",
   "execution_count": null,
   "id": "3ebd5e95-462a-4a0d-8d21-bbe4bd630013",
   "metadata": {},
   "outputs": [],
   "source": []
  },
  {
   "cell_type": "markdown",
   "id": "008b7121-5eda-4945-88f6-f09b8489c69c",
   "metadata": {},
   "source": [
    "### Daily Posts Trend for Hashtag #milei"
   ]
  },
  {
   "cell_type": "code",
   "execution_count": 20,
   "id": "85dfc325-b76c-40ab-a62e-ec7a998f546e",
   "metadata": {
    "tags": []
   },
   "outputs": [
    {
     "data": {
      "text/plain": [
       "0    2023-12-01T06:32:39.000Z\n",
       "1    2023-11-27T07:25:26.000Z\n",
       "2    2023-11-24T16:02:36.000Z\n",
       "3    2023-11-23T12:42:37.000Z\n",
       "4    2023-11-17T11:54:10.908Z\n",
       "5    2023-11-14T08:49:27.000Z\n",
       "6    2023-11-13T17:25:30.000Z\n",
       "7    2023-11-12T13:03:14.000Z\n",
       "8    2023-11-09T18:36:18.000Z\n",
       "Name: created_at, dtype: object"
      ]
     },
     "execution_count": 20,
     "metadata": {},
     "output_type": "execute_result"
    }
   ],
   "source": [
    "df.created_at"
   ]
  },
  {
   "cell_type": "code",
   "execution_count": 38,
   "id": "d94ee50f-0371-4646-95a4-710f53bb213d",
   "metadata": {
    "tags": []
   },
   "outputs": [
    {
     "name": "stderr",
     "output_type": "stream",
     "text": [
      "C:\\Users\\Carlo\\AppData\\Local\\Temp\\ipykernel_11248\\613815656.py:2: SettingWithCopyWarning:\n",
      "\n",
      "\n",
      "A value is trying to be set on a copy of a slice from a DataFrame.\n",
      "Try using .loc[row_indexer,col_indexer] = value instead\n",
      "\n",
      "See the caveats in the documentation: https://pandas.pydata.org/pandas-docs/stable/user_guide/indexing.html#returning-a-view-versus-a-copy\n",
      "\n"
     ]
    },
    {
     "data": {
      "image/png": "[encoded data removed]",
      "text/plain": [
       "<Figure size 1000x600 with 1 Axes>"
      ]
     },
     "metadata": {},
     "output_type": "display_data"
    }
   ],
   "source": [
    "# Convert 'created_at' column to datetime\n",
    "df_milei['created_at'] = pd.to_datetime(df_milei['created_at'])\n",
    "\n",
    "# Resample to get daily counts\n",
    "daily_counts = df_milei.resample('D', on='created_at').count()\n",
    "\n",
    "# Plotting\n",
    "plt.figure(figsize=(10, 6))\n",
    "plt.plot(daily_counts['id'], marker='o', linestyle='-')\n",
    "plt.title('Daily Posts Trend for Hashtag #miley')\n",
    "plt.xlabel('Date')\n",
    "plt.ylabel('Number of Posts')\n",
    "plt.xticks(rotation=45)\n",
    "plt.grid(True)\n",
    "plt.tight_layout()\n",
    "plt.show()\n"
   ]
  },
  {
   "cell_type": "code",
   "execution_count": 39,
   "id": "31a79913-462d-4a97-b4de-32d6691f3371",
   "metadata": {
    "tags": []
   },
   "outputs": [
    {
     "data": {
      "application/vnd.plotly.v1+json": {
       "config": {
        "plotlyServerURL": "https://plot.ly"
       },
       "data": [
        {
         "mode": "lines+markers",
         "name": "posts",
         "type": "scatter",
         "x": [
          "2023-11-05T00:00:00+00:00",
          "2023-11-06T00:00:00+00:00",
          "2023-11-07T00:00:00+00:00",
          "2023-11-08T00:00:00+00:00",
          "2023-11-09T00:00:00+00:00",
          "2023-11-10T00:00:00+00:00",
          "2023-11-11T00:00:00+00:00",
          "2023-11-12T00:00:00+00:00",
          "2023-11-13T00:00:00+00:00",
          "2023-11-14T00:00:00+00:00",
          "2023-11-15T00:00:00+00:00",
          "2023-11-16T00:00:00+00:00",
          "2023-11-17T00:00:00+00:00",
          "2023-11-18T00:00:00+00:00",
          "2023-11-19T00:00:00+00:00",
          "2023-11-20T00:00:00+00:00",
          "2023-11-21T00:00:00+00:00",
          "2023-11-22T00:00:00+00:00",
          "2023-11-23T00:00:00+00:00",
          "2023-11-24T00:00:00+00:00",
          "2023-11-25T00:00:00+00:00",
          "2023-11-26T00:00:00+00:00",
          "2023-11-27T00:00:00+00:00",
          "2023-11-28T00:00:00+00:00",
          "2023-11-29T00:00:00+00:00",
          "2023-11-30T00:00:00+00:00",
          "2023-12-01T00:00:00+00:00",
          "2023-12-02T00:00:00+00:00",
          "2023-12-03T00:00:00+00:00",
          "2023-12-04T00:00:00+00:00"
         ],
         "y": [
          2,
          1,
          2,
          1,
          1,
          3,
          3,
          1,
          21,
          3,
          2,
          6,
          3,
          4,
          40,
          171,
          41,
          24,
          27,
          18,
          8,
          7,
          6,
          2,
          7,
          10,
          5,
          4,
          0,
          2
         ]
        }
       ],
       "layout": {
        "autosize": true,
        "template": {
         "data": {
          "bar": [
           {
            "error_x": {
             "color": "#2a3f5f"
            },
            "error_y": {
             "color": "#2a3f5f"
            },
            "marker": {
             "line": {
              "color": "white",
              "width": 0.5
             },
             "pattern": {
              "fillmode": "overlay",
              "size": 10,
              "solidity": 0.2
             }
            },
            "type": "bar"
           }
          ],
          "barpolar": [
           {
            "marker": {
             "line": {
              "color": "white",
              "width": 0.5
             },
             "pattern": {
              "fillmode": "overlay",
              "size": 10,
              "solidity": 0.2
             }
            },
            "type": "barpolar"
           }
          ],
          "carpet": [
           {
            "aaxis": {
             "endlinecolor": "#2a3f5f",
             "gridcolor": "#C8D4E3",
             "linecolor": "#C8D4E3",
             "minorgridcolor": "#C8D4E3",
             "startlinecolor": "#2a3f5f"
            },
            "baxis": {
             "endlinecolor": "#2a3f5f",
             "gridcolor": "#C8D4E3",
             "linecolor": "#C8D4E3",
             "minorgridcolor": "#C8D4E3",
             "startlinecolor": "#2a3f5f"
            },
            "type": "carpet"
           }
          ],
          "choropleth": [
           {
            "colorbar": {
             "outlinewidth": 0,
             "ticks": ""
            },
            "type": "choropleth"
           }
          ],
          "contour": [
           {
            "colorbar": {
             "outlinewidth": 0,
             "ticks": ""
            },
            "colorscale": [
             [
              0,
              "#0d0887"
             ],
             [
              0.1111111111111111,
              "#46039f"
             ],
             [
              0.2222222222222222,
              "#7201a8"
             ],
             [
              0.3333333333333333,
              "#9c179e"
             ],
             [
              0.4444444444444444,
              "#bd3786"
             ],
             [
              0.5555555555555556,
              "#d8576b"
             ],
             [
              0.6666666666666666,
              "#ed7953"
             ],
             [
              0.7777777777777778,
              "#fb9f3a"
             ],
             [
              0.8888888888888888,
              "#fdca26"
             ],
             [
              1,
              "#f0f921"
             ]
            ],
            "type": "contour"
           }
          ],
          "contourcarpet": [
           {
            "colorbar": {
             "outlinewidth": 0,
             "ticks": ""
            },
            "type": "contourcarpet"
           }
          ],
          "heatmap": [
           {
            "colorbar": {
             "outlinewidth": 0,
             "ticks": ""
            },
            "colorscale": [
             [
              0,
              "#0d0887"
             ],
             [
              0.1111111111111111,
              "#46039f"
             ],
             [
              0.2222222222222222,
              "#7201a8"
             ],
             [
              0.3333333333333333,
              "#9c179e"
             ],
             [
              0.4444444444444444,
              "#bd3786"
             ],
             [
              0.5555555555555556,
              "#d8576b"
             ],
             [
              0.6666666666666666,
              "#ed7953"
             ],
             [
              0.7777777777777778,
              "#fb9f3a"
             ],
             [
              0.8888888888888888,
              "#fdca26"
             ],
             [
              1,
              "#f0f921"
             ]
            ],
            "type": "heatmap"
           }
          ],
          "heatmapgl": [
           {
            "colorbar": {
             "outlinewidth": 0,
             "ticks": ""
            },
            "colorscale": [
             [
              0,
              "#0d0887"
             ],
             [
              0.1111111111111111,
              "#46039f"
             ],
             [
              0.2222222222222222,
              "#7201a8"
             ],
             [
              0.3333333333333333,
              "#9c179e"
             ],
             [
              0.4444444444444444,
              "#bd3786"
             ],
             [
              0.5555555555555556,
              "#d8576b"
             ],
             [
              0.6666666666666666,
              "#ed7953"
             ],
             [
              0.7777777777777778,
              "#fb9f3a"
             ],
             [
              0.8888888888888888,
              "#fdca26"
             ],
             [
              1,
              "#f0f921"
             ]
            ],
            "type": "heatmapgl"
           }
          ],
          "histogram": [
           {
            "marker": {
             "pattern": {
              "fillmode": "overlay",
              "size": 10,
              "solidity": 0.2
             }
            },
            "type": "histogram"
           }
          ],
          "histogram2d": [
           {
            "colorbar": {
             "outlinewidth": 0,
             "ticks": ""
            },
            "colorscale": [
             [
              0,
              "#0d0887"
             ],
             [
              0.1111111111111111,
              "#46039f"
             ],
             [
              0.2222222222222222,
              "#7201a8"
             ],
             [
              0.3333333333333333,
              "#9c179e"
             ],
             [
              0.4444444444444444,
              "#bd3786"
             ],
             [
              0.5555555555555556,
              "#d8576b"
             ],
             [
              0.6666666666666666,
              "#ed7953"
             ],
             [
              0.7777777777777778,
              "#fb9f3a"
             ],
             [
              0.8888888888888888,
              "#fdca26"
             ],
             [
              1,
              "#f0f921"
             ]
            ],
            "type": "histogram2d"
           }
          ],
          "histogram2dcontour": [
           {
            "colorbar": {
             "outlinewidth": 0,
             "ticks": ""
            },
            "colorscale": [
             [
              0,
              "#0d0887"
             ],
             [
              0.1111111111111111,
              "#46039f"
             ],
             [
              0.2222222222222222,
              "#7201a8"
             ],
             [
              0.3333333333333333,
              "#9c179e"
             ],
             [
              0.4444444444444444,
              "#bd3786"
             ],
             [
              0.5555555555555556,
              "#d8576b"
             ],
             [
              0.6666666666666666,
              "#ed7953"
             ],
             [
              0.7777777777777778,
              "#fb9f3a"
             ],
             [
              0.8888888888888888,
              "#fdca26"
             ],
             [
              1,
              "#f0f921"
             ]
            ],
            "type": "histogram2dcontour"
           }
          ],
          "mesh3d": [
           {
            "colorbar": {
             "outlinewidth": 0,
             "ticks": ""
            },
            "type": "mesh3d"
           }
          ],
          "parcoords": [
           {
            "line": {
             "colorbar": {
              "outlinewidth": 0,
              "ticks": ""
             }
            },
            "type": "parcoords"
           }
          ],
          "pie": [
           {
            "automargin": true,
            "type": "pie"
           }
          ],
          "scatter": [
           {
            "fillpattern": {
             "fillmode": "overlay",
             "size": 10,
             "solidity": 0.2
            },
            "type": "scatter"
           }
          ],
          "scatter3d": [
           {
            "line": {
             "colorbar": {
              "outlinewidth": 0,
              "ticks": ""
             }
            },
            "marker": {
             "colorbar": {
              "outlinewidth": 0,
              "ticks": ""
             }
            },
            "type": "scatter3d"
           }
          ],
          "scattercarpet": [
           {
            "marker": {
             "colorbar": {
              "outlinewidth": 0,
              "ticks": ""
             }
            },
            "type": "scattercarpet"
           }
          ],
          "scattergeo": [
           {
            "marker": {
             "colorbar": {
              "outlinewidth": 0,
              "ticks": ""
             }
            },
            "type": "scattergeo"
           }
          ],
          "scattergl": [
           {
            "marker": {
             "colorbar": {
              "outlinewidth": 0,
              "ticks": ""
             }
            },
            "type": "scattergl"
           }
          ],
          "scattermapbox": [
           {
            "marker": {
             "colorbar": {
              "outlinewidth": 0,
              "ticks": ""
             }
            },
            "type": "scattermapbox"
           }
          ],
          "scatterpolar": [
           {
            "marker": {
             "colorbar": {
              "outlinewidth": 0,
              "ticks": ""
             }
            },
            "type": "scatterpolar"
           }
          ],
          "scatterpolargl": [
           {
            "marker": {
             "colorbar": {
              "outlinewidth": 0,
              "ticks": ""
             }
            },
            "type": "scatterpolargl"
           }
          ],
          "scatterternary": [
           {
            "marker": {
             "colorbar": {
              "outlinewidth": 0,
              "ticks": ""
             }
            },
            "type": "scatterternary"
           }
          ],
          "surface": [
           {
            "colorbar": {
             "outlinewidth": 0,
             "ticks": ""
            },
            "colorscale": [
             [
              0,
              "#0d0887"
             ],
             [
              0.1111111111111111,
              "#46039f"
             ],
             [
              0.2222222222222222,
              "#7201a8"
             ],
             [
              0.3333333333333333,
              "#9c179e"
             ],
             [
              0.4444444444444444,
              "#bd3786"
             ],
             [
              0.5555555555555556,
              "#d8576b"
             ],
             [
              0.6666666666666666,
              "#ed7953"
             ],
             [
              0.7777777777777778,
              "#fb9f3a"
             ],
             [
              0.8888888888888888,
              "#fdca26"
             ],
             [
              1,
              "#f0f921"
             ]
            ],
            "type": "surface"
           }
          ],
          "table": [
           {
            "cells": {
             "fill": {
              "color": "#EBF0F8"
             },
             "line": {
              "color": "white"
             }
            },
            "header": {
             "fill": {
              "color": "#C8D4E3"
             },
             "line": {
              "color": "white"
             }
            },
            "type": "table"
           }
          ]
         },
         "layout": {
          "annotationdefaults": {
           "arrowcolor": "#2a3f5f",
           "arrowhead": 0,
           "arrowwidth": 1
          },
          "autotypenumbers": "strict",
          "coloraxis": {
           "colorbar": {
            "outlinewidth": 0,
            "ticks": ""
           }
          },
          "colorscale": {
           "diverging": [
            [
             0,
             "#8e0152"
            ],
            [
             0.1,
             "#c51b7d"
            ],
            [
             0.2,
             "#de77ae"
            ],
            [
             0.3,
             "#f1b6da"
            ],
            [
             0.4,
             "#fde0ef"
            ],
            [
             0.5,
             "#f7f7f7"
            ],
            [
             0.6,
             "#e6f5d0"
            ],
            [
             0.7,
             "#b8e186"
            ],
            [
             0.8,
             "#7fbc41"
            ],
            [
             0.9,
             "#4d9221"
            ],
            [
             1,
             "#276419"
            ]
           ],
           "sequential": [
            [
             0,
             "#0d0887"
            ],
            [
             0.1111111111111111,
             "#46039f"
            ],
            [
             0.2222222222222222,
             "#7201a8"
            ],
            [
             0.3333333333333333,
             "#9c179e"
            ],
            [
             0.4444444444444444,
             "#bd3786"
            ],
            [
             0.5555555555555556,
             "#d8576b"
            ],
            [
             0.6666666666666666,
             "#ed7953"
            ],
            [
             0.7777777777777778,
             "#fb9f3a"
            ],
            [
             0.8888888888888888,
             "#fdca26"
            ],
            [
             1,
             "#f0f921"
            ]
           ],
           "sequentialminus": [
            [
             0,
             "#0d0887"
            ],
            [
             0.1111111111111111,
             "#46039f"
            ],
            [
             0.2222222222222222,
             "#7201a8"
            ],
            [
             0.3333333333333333,
             "#9c179e"
            ],
            [
             0.4444444444444444,
             "#bd3786"
            ],
            [
             0.5555555555555556,
             "#d8576b"
            ],
            [
             0.6666666666666666,
             "#ed7953"
            ],
            [
             0.7777777777777778,
             "#fb9f3a"
            ],
            [
             0.8888888888888888,
             "#fdca26"
            ],
            [
             1,
             "#f0f921"
            ]
           ]
          },
          "colorway": [
           "#636efa",
           "#EF553B",
           "#00cc96",
           "#ab63fa",
           "#FFA15A",
           "#19d3f3",
           "#FF6692",
           "#B6E880",
           "#FF97FF",
           "#FECB52"
          ],
          "font": {
           "color": "#2a3f5f"
          },
          "geo": {
           "bgcolor": "white",
           "lakecolor": "white",
           "landcolor": "white",
           "showlakes": true,
           "showland": true,
           "subunitcolor": "#C8D4E3"
          },
          "hoverlabel": {
           "align": "left"
          },
          "hovermode": "closest",
          "mapbox": {
           "style": "light"
          },
          "paper_bgcolor": "white",
          "plot_bgcolor": "white",
          "polar": {
           "angularaxis": {
            "gridcolor": "#EBF0F8",
            "linecolor": "#EBF0F8",
            "ticks": ""
           },
           "bgcolor": "white",
           "radialaxis": {
            "gridcolor": "#EBF0F8",
            "linecolor": "#EBF0F8",
            "ticks": ""
           }
          },
          "scene": {
           "xaxis": {
            "backgroundcolor": "white",
            "gridcolor": "#DFE8F3",
            "gridwidth": 2,
            "linecolor": "#EBF0F8",
            "showbackground": true,
            "ticks": "",
            "zerolinecolor": "#EBF0F8"
           },
           "yaxis": {
            "backgroundcolor": "white",
            "gridcolor": "#DFE8F3",
            "gridwidth": 2,
            "linecolor": "#EBF0F8",
            "showbackground": true,
            "ticks": "",
            "zerolinecolor": "#EBF0F8"
           },
           "zaxis": {
            "backgroundcolor": "white",
            "gridcolor": "#DFE8F3",
            "gridwidth": 2,
            "linecolor": "#EBF0F8",
            "showbackground": true,
            "ticks": "",
            "zerolinecolor": "#EBF0F8"
           }
          },
          "shapedefaults": {
           "line": {
            "color": "#2a3f5f"
           }
          },
          "ternary": {
           "aaxis": {
            "gridcolor": "#DFE8F3",
            "linecolor": "#A2B1C6",
            "ticks": ""
           },
           "baxis": {
            "gridcolor": "#DFE8F3",
            "linecolor": "#A2B1C6",
            "ticks": ""
           },
           "bgcolor": "white",
           "caxis": {
            "gridcolor": "#DFE8F3",
            "linecolor": "#A2B1C6",
            "ticks": ""
           }
          },
          "title": {
           "x": 0.05
          },
          "xaxis": {
           "automargin": true,
           "gridcolor": "#EBF0F8",
           "linecolor": "#EBF0F8",
           "ticks": "",
           "title": {
            "standoff": 15
           },
           "zerolinecolor": "#EBF0F8",
           "zerolinewidth": 2
          },
          "yaxis": {
           "automargin": true,
           "gridcolor": "#EBF0F8",
           "linecolor": "#EBF0F8",
           "ticks": "",
           "title": {
            "standoff": 15
           },
           "zerolinecolor": "#EBF0F8",
           "zerolinewidth": 2
          }
         }
        },
        "title": {
         "text": "Daily Posts Trend for Hashtag #milei"
        },
        "xaxis": {
         "autorange": true,
         "range": [
          "2023-11-03 05:52:55.8658",
          "2023-12-05 18:07:04.1342"
         ],
         "tickangle": 45,
         "title": {
          "text": "Date"
         },
         "type": "date"
        },
        "yaxis": {
         "autorange": true,
         "range": [
          -14.278672032193157,
          185.27867203219316
         ],
         "title": {
          "text": "Number of Posts"
         },
         "type": "linear"
        }
       }
      },
      "image/png": "[encoded data removed]",
      "text/html": [
       "<div>                            <div id=\"53942817-c910-40b3-9f26-76fb34f77505\" class=\"plotly-graph-div\" style=\"height:525px; width:100%;\"></div>            <script type=\"text/javascript\">                require([\"plotly\"], function(Plotly) {                    window.PLOTLYENV=window.PLOTLYENV || {};                                    if (document.getElementById(\"53942817-c910-40b3-9f26-76fb34f77505\")) {                    Plotly.newPlot(                        \"53942817-c910-40b3-9f26-76fb34f77505\",                        [{\"mode\":\"lines+markers\",\"name\":\"posts\",\"x\":[\"2023-11-05T00:00:00+00:00\",\"2023-11-06T00:00:00+00:00\",\"2023-11-07T00:00:00+00:00\",\"2023-11-08T00:00:00+00:00\",\"2023-11-09T00:00:00+00:00\",\"2023-11-10T00:00:00+00:00\",\"2023-11-11T00:00:00+00:00\",\"2023-11-12T00:00:00+00:00\",\"2023-11-13T00:00:00+00:00\",\"2023-11-14T00:00:00+00:00\",\"2023-11-15T00:00:00+00:00\",\"2023-11-16T00:00:00+00:00\",\"2023-11-17T00:00:00+00:00\",\"2023-11-18T00:00:00+00:00\",\"2023-11-19T00:00:00+00:00\",\"2023-11-20T00:00:00+00:00\",\"2023-11-21T00:00:00+00:00\",\"2023-11-22T00:00:00+00:00\",\"2023-11-23T00:00:00+00:00\",\"2023-11-24T00:00:00+00:00\",\"2023-11-25T00:00:00+00:00\",\"2023-11-26T00:00:00+00:00\",\"2023-11-27T00:00:00+00:00\",\"2023-11-28T00:00:00+00:00\",\"2023-11-29T00:00:00+00:00\",\"2023-11-30T00:00:00+00:00\",\"2023-12-01T00:00:00+00:00\",\"2023-12-02T00:00:00+00:00\",\"2023-12-03T00:00:00+00:00\",\"2023-12-04T00:00:00+00:00\"],\"y\":[2,1,2,1,1,3,3,1,21,3,2,6,3,4,40,171,41,24,27,18,8,7,6,2,7,10,5,4,0,2],\"type\":\"scatter\"}],                        {\"template\":{\"data\":{\"barpolar\":[{\"marker\":{\"line\":{\"color\":\"white\",\"width\":0.5},\"pattern\":{\"fillmode\":\"overlay\",\"size\":10,\"solidity\":0.2}},\"type\":\"barpolar\"}],\"bar\":[{\"error_x\":{\"color\":\"#2a3f5f\"},\"error_y\":{\"color\":\"#2a3f5f\"},\"marker\":{\"line\":{\"color\":\"white\",\"width\":0.5},\"pattern\":{\"fillmode\":\"overlay\",\"size\":10,\"solidity\":0.2}},\"type\":\"bar\"}],\"carpet\":[{\"aaxis\":{\"endlinecolor\":\"#2a3f5f\",\"gridcolor\":\"#C8D4E3\",\"linecolor\":\"#C8D4E3\",\"minorgridcolor\":\"#C8D4E3\",\"startlinecolor\":\"#2a3f5f\"},\"baxis\":{\"endlinecolor\":\"#2a3f5f\",\"gridcolor\":\"#C8D4E3\",\"linecolor\":\"#C8D4E3\",\"minorgridcolor\":\"#C8D4E3\",\"startlinecolor\":\"#2a3f5f\"},\"type\":\"carpet\"}],\"choropleth\":[{\"colorbar\":{\"outlinewidth\":0,\"ticks\":\"\"},\"type\":\"choropleth\"}],\"contourcarpet\":[{\"colorbar\":{\"outlinewidth\":0,\"ticks\":\"\"},\"type\":\"contourcarpet\"}],\"contour\":[{\"colorbar\":{\"outlinewidth\":0,\"ticks\":\"\"},\"colorscale\":[[0.0,\"#0d0887\"],[0.1111111111111111,\"#46039f\"],[0.2222222222222222,\"#7201a8\"],[0.3333333333333333,\"#9c179e\"],[0.4444444444444444,\"#bd3786\"],[0.5555555555555556,\"#d8576b\"],[0.6666666666666666,\"#ed7953\"],[0.7777777777777778,\"#fb9f3a\"],[0.8888888888888888,\"#fdca26\"],[1.0,\"#f0f921\"]],\"type\":\"contour\"}],\"heatmapgl\":[{\"colorbar\":{\"outlinewidth\":0,\"ticks\":\"\"},\"colorscale\":[[0.0,\"#0d0887\"],[0.1111111111111111,\"#46039f\"],[0.2222222222222222,\"#7201a8\"],[0.3333333333333333,\"#9c179e\"],[0.4444444444444444,\"#bd3786\"],[0.5555555555555556,\"#d8576b\"],[0.6666666666666666,\"#ed7953\"],[0.7777777777777778,\"#fb9f3a\"],[0.8888888888888888,\"#fdca26\"],[1.0,\"#f0f921\"]],\"type\":\"heatmapgl\"}],\"heatmap\":[{\"colorbar\":{\"outlinewidth\":0,\"ticks\":\"\"},\"colorscale\":[[0.0,\"#0d0887\"],[0.1111111111111111,\"#46039f\"],[0.2222222222222222,\"#7201a8\"],[0.3333333333333333,\"#9c179e\"],[0.4444444444444444,\"#bd3786\"],[0.5555555555555556,\"#d8576b\"],[0.6666666666666666,\"#ed7953\"],[0.7777777777777778,\"#fb9f3a\"],[0.8888888888888888,\"#fdca26\"],[1.0,\"#f0f921\"]],\"type\":\"heatmap\"}],\"histogram2dcontour\":[{\"colorbar\":{\"outlinewidth\":0,\"ticks\":\"\"},\"colorscale\":[[0.0,\"#0d0887\"],[0.1111111111111111,\"#46039f\"],[0.2222222222222222,\"#7201a8\"],[0.3333333333333333,\"#9c179e\"],[0.4444444444444444,\"#bd3786\"],[0.5555555555555556,\"#d8576b\"],[0.6666666666666666,\"#ed7953\"],[0.7777777777777778,\"#fb9f3a\"],[0.8888888888888888,\"#fdca26\"],[1.0,\"#f0f921\"]],\"type\":\"histogram2dcontour\"}],\"histogram2d\":[{\"colorbar\":{\"outlinewidth\":0,\"ticks\":\"\"},\"colorscale\":[[0.0,\"#0d0887\"],[0.1111111111111111,\"#46039f\"],[0.2222222222222222,\"#7201a8\"],[0.3333333333333333,\"#9c179e\"],[0.4444444444444444,\"#bd3786\"],[0.5555555555555556,\"#d8576b\"],[0.6666666666666666,\"#ed7953\"],[0.7777777777777778,\"#fb9f3a\"],[0.8888888888888888,\"#fdca26\"],[1.0,\"#f0f921\"]],\"type\":\"histogram2d\"}],\"histogram\":[{\"marker\":{\"pattern\":{\"fillmode\":\"overlay\",\"size\":10,\"solidity\":0.2}},\"type\":\"histogram\"}],\"mesh3d\":[{\"colorbar\":{\"outlinewidth\":0,\"ticks\":\"\"},\"type\":\"mesh3d\"}],\"parcoords\":[{\"line\":{\"colorbar\":{\"outlinewidth\":0,\"ticks\":\"\"}},\"type\":\"parcoords\"}],\"pie\":[{\"automargin\":true,\"type\":\"pie\"}],\"scatter3d\":[{\"line\":{\"colorbar\":{\"outlinewidth\":0,\"ticks\":\"\"}},\"marker\":{\"colorbar\":{\"outlinewidth\":0,\"ticks\":\"\"}},\"type\":\"scatter3d\"}],\"scattercarpet\":[{\"marker\":{\"colorbar\":{\"outlinewidth\":0,\"ticks\":\"\"}},\"type\":\"scattercarpet\"}],\"scattergeo\":[{\"marker\":{\"colorbar\":{\"outlinewidth\":0,\"ticks\":\"\"}},\"type\":\"scattergeo\"}],\"scattergl\":[{\"marker\":{\"colorbar\":{\"outlinewidth\":0,\"ticks\":\"\"}},\"type\":\"scattergl\"}],\"scattermapbox\":[{\"marker\":{\"colorbar\":{\"outlinewidth\":0,\"ticks\":\"\"}},\"type\":\"scattermapbox\"}],\"scatterpolargl\":[{\"marker\":{\"colorbar\":{\"outlinewidth\":0,\"ticks\":\"\"}},\"type\":\"scatterpolargl\"}],\"scatterpolar\":[{\"marker\":{\"colorbar\":{\"outlinewidth\":0,\"ticks\":\"\"}},\"type\":\"scatterpolar\"}],\"scatter\":[{\"fillpattern\":{\"fillmode\":\"overlay\",\"size\":10,\"solidity\":0.2},\"type\":\"scatter\"}],\"scatterternary\":[{\"marker\":{\"colorbar\":{\"outlinewidth\":0,\"ticks\":\"\"}},\"type\":\"scatterternary\"}],\"surface\":[{\"colorbar\":{\"outlinewidth\":0,\"ticks\":\"\"},\"colorscale\":[[0.0,\"#0d0887\"],[0.1111111111111111,\"#46039f\"],[0.2222222222222222,\"#7201a8\"],[0.3333333333333333,\"#9c179e\"],[0.4444444444444444,\"#bd3786\"],[0.5555555555555556,\"#d8576b\"],[0.6666666666666666,\"#ed7953\"],[0.7777777777777778,\"#fb9f3a\"],[0.8888888888888888,\"#fdca26\"],[1.0,\"#f0f921\"]],\"type\":\"surface\"}],\"table\":[{\"cells\":{\"fill\":{\"color\":\"#EBF0F8\"},\"line\":{\"color\":\"white\"}},\"header\":{\"fill\":{\"color\":\"#C8D4E3\"},\"line\":{\"color\":\"white\"}},\"type\":\"table\"}]},\"layout\":{\"annotationdefaults\":{\"arrowcolor\":\"#2a3f5f\",\"arrowhead\":0,\"arrowwidth\":1},\"autotypenumbers\":\"strict\",\"coloraxis\":{\"colorbar\":{\"outlinewidth\":0,\"ticks\":\"\"}},\"colorscale\":{\"diverging\":[[0,\"#8e0152\"],[0.1,\"#c51b7d\"],[0.2,\"#de77ae\"],[0.3,\"#f1b6da\"],[0.4,\"#fde0ef\"],[0.5,\"#f7f7f7\"],[0.6,\"#e6f5d0\"],[0.7,\"#b8e186\"],[0.8,\"#7fbc41\"],[0.9,\"#4d9221\"],[1,\"#276419\"]],\"sequential\":[[0.0,\"#0d0887\"],[0.1111111111111111,\"#46039f\"],[0.2222222222222222,\"#7201a8\"],[0.3333333333333333,\"#9c179e\"],[0.4444444444444444,\"#bd3786\"],[0.5555555555555556,\"#d8576b\"],[0.6666666666666666,\"#ed7953\"],[0.7777777777777778,\"#fb9f3a\"],[0.8888888888888888,\"#fdca26\"],[1.0,\"#f0f921\"]],\"sequentialminus\":[[0.0,\"#0d0887\"],[0.1111111111111111,\"#46039f\"],[0.2222222222222222,\"#7201a8\"],[0.3333333333333333,\"#9c179e\"],[0.4444444444444444,\"#bd3786\"],[0.5555555555555556,\"#d8576b\"],[0.6666666666666666,\"#ed7953\"],[0.7777777777777778,\"#fb9f3a\"],[0.8888888888888888,\"#fdca26\"],[1.0,\"#f0f921\"]]},\"colorway\":[\"#636efa\",\"#EF553B\",\"#00cc96\",\"#ab63fa\",\"#FFA15A\",\"#19d3f3\",\"#FF6692\",\"#B6E880\",\"#FF97FF\",\"#FECB52\"],\"font\":{\"color\":\"#2a3f5f\"},\"geo\":{\"bgcolor\":\"white\",\"lakecolor\":\"white\",\"landcolor\":\"white\",\"showlakes\":true,\"showland\":true,\"subunitcolor\":\"#C8D4E3\"},\"hoverlabel\":{\"align\":\"left\"},\"hovermode\":\"closest\",\"mapbox\":{\"style\":\"light\"},\"paper_bgcolor\":\"white\",\"plot_bgcolor\":\"white\",\"polar\":{\"angularaxis\":{\"gridcolor\":\"#EBF0F8\",\"linecolor\":\"#EBF0F8\",\"ticks\":\"\"},\"bgcolor\":\"white\",\"radialaxis\":{\"gridcolor\":\"#EBF0F8\",\"linecolor\":\"#EBF0F8\",\"ticks\":\"\"}},\"scene\":{\"xaxis\":{\"backgroundcolor\":\"white\",\"gridcolor\":\"#DFE8F3\",\"gridwidth\":2,\"linecolor\":\"#EBF0F8\",\"showbackground\":true,\"ticks\":\"\",\"zerolinecolor\":\"#EBF0F8\"},\"yaxis\":{\"backgroundcolor\":\"white\",\"gridcolor\":\"#DFE8F3\",\"gridwidth\":2,\"linecolor\":\"#EBF0F8\",\"showbackground\":true,\"ticks\":\"\",\"zerolinecolor\":\"#EBF0F8\"},\"zaxis\":{\"backgroundcolor\":\"white\",\"gridcolor\":\"#DFE8F3\",\"gridwidth\":2,\"linecolor\":\"#EBF0F8\",\"showbackground\":true,\"ticks\":\"\",\"zerolinecolor\":\"#EBF0F8\"}},\"shapedefaults\":{\"line\":{\"color\":\"#2a3f5f\"}},\"ternary\":{\"aaxis\":{\"gridcolor\":\"#DFE8F3\",\"linecolor\":\"#A2B1C6\",\"ticks\":\"\"},\"baxis\":{\"gridcolor\":\"#DFE8F3\",\"linecolor\":\"#A2B1C6\",\"ticks\":\"\"},\"bgcolor\":\"white\",\"caxis\":{\"gridcolor\":\"#DFE8F3\",\"linecolor\":\"#A2B1C6\",\"ticks\":\"\"}},\"title\":{\"x\":0.05},\"xaxis\":{\"automargin\":true,\"gridcolor\":\"#EBF0F8\",\"linecolor\":\"#EBF0F8\",\"ticks\":\"\",\"title\":{\"standoff\":15},\"zerolinecolor\":\"#EBF0F8\",\"zerolinewidth\":2},\"yaxis\":{\"automargin\":true,\"gridcolor\":\"#EBF0F8\",\"linecolor\":\"#EBF0F8\",\"ticks\":\"\",\"title\":{\"standoff\":15},\"zerolinecolor\":\"#EBF0F8\",\"zerolinewidth\":2}}},\"xaxis\":{\"title\":{\"text\":\"Date\"},\"tickangle\":45},\"title\":{\"text\":\"Daily Posts Trend for Hashtag #milei\"},\"yaxis\":{\"title\":{\"text\":\"Number of Posts\"}}},                        {\"responsive\": true}                    ).then(function(){\n",
       "                            \n",
       "var gd = document.getElementById('53942817-c910-40b3-9f26-76fb34f77505');\n",
       "var x = new MutationObserver(function (mutations, observer) {{\n",
       "        var display = window.getComputedStyle(gd).display;\n",
       "        if (!display || display === 'none') {{\n",
       "            console.log([gd, 'removed!']);\n",
       "            Plotly.purge(gd);\n",
       "            observer.disconnect();\n",
       "        }}\n",
       "}});\n",
       "\n",
       "// Listen for the removal of the full notebook cells\n",
       "var notebookContainer = gd.closest('#notebook-container');\n",
       "if (notebookContainer) {{\n",
       "    x.observe(notebookContainer, {childList: true});\n",
       "}}\n",
       "\n",
       "// Listen for the clearing of the current output cell\n",
       "var outputEl = gd.closest('.output');\n",
       "if (outputEl) {{\n",
       "    x.observe(outputEl, {childList: true});\n",
       "}}\n",
       "\n",
       "                        })                };                });            </script>        </div>"
      ]
     },
     "metadata": {},
     "output_type": "display_data"
    }
   ],
   "source": [
    "# # Convert 'created_at' column to datetime\n",
    "# df_milei['created_at'] = pd.to_datetime(df_milei['created_at'])\n",
    "\n",
    "# # Resample to get daily counts\n",
    "# daily_counts = df_milei.resample('D', on='created_at').count()\n",
    "\n",
    "# Create Plotly figure\n",
    "fig = go.Figure()\n",
    "\n",
    "# Add scatter (line plot) to the figure\n",
    "fig.add_trace(go.Scatter(x=daily_counts.index, \n",
    "                         y=daily_counts['id'], \n",
    "                         mode='lines+markers', \n",
    "                         name='posts'))\n",
    "\n",
    "# Update title and axis \n",
    "fig.update_layout(\n",
    "    title='Daily Posts Trend for Hashtag #milei',\n",
    "    xaxis_title='Date',\n",
    "    yaxis_title='Number of Posts',\n",
    "    xaxis=dict(tickangle=45),\n",
    "    template=\"plotly_white\"  \n",
    ")\n",
    "\n",
    "fig.show()\n"
   ]
  },
  {
   "cell_type": "markdown",
   "id": "cbda3179-cfe6-45c9-a9b3-4bd9d9a6ab12",
   "metadata": {},
   "source": [
    "TODO\n",
    "\n",
    "* Analyse all hastags individually, check when posts with hashtags were most active.\n",
    "* Find reasons for this: e.g. is it due to events like elections?\n",
    "* Make it pretty :) highlight important events with colors, or arrows or whatever suitable \n"
   ]
  },
  {
   "cell_type": "markdown",
   "id": "7c1bd407-d86a-46c7-acf1-75e7a41b1463",
   "metadata": {},
   "source": [
    "RESULTS/FINDINGS\n",
    "\n"
   ]
  },
  {
   "cell_type": "markdown",
   "id": "aa11ac99-6cfd-4dd0-b458-a9187882fcd0",
   "metadata": {},
   "source": [
    "Content Analysis (content, spoiler_text, media_attachments)\n",
    "Visualize the most common words in posts with these hashtags. (word cloud?)\n",
    "Analyse the nature of content e.g. text, media etc."
   ]
  },
  {
   "cell_type": "code",
   "execution_count": null,
   "id": "03390405-b010-4191-a9df-f19eda50d2d8",
   "metadata": {
    "tags": []
   },
   "outputs": [],
   "source": [
    "#import pandas as pd\n",
    "#import matplotlib.pyplot as plt\n",
    "#from wordcloud import WordCloud\n",
    "#from collections import Counter\n",
    "#import seaborn as sns\n",
    "\n",
    "# Assuming df_list is a list containing DataFrames for the 10 hashtags\n",
    "df_list_final=[df_argentina,df_gaza,df_israel,df_milei,df_missuniverse,df_spotify,df_thanksgiving,df_trump,df_twitter,df_ons]\n",
    "# Concatenate the DataFrames in df_list\n",
    "merged_df = pd.concat(df_list_final, ignore_index=True)\n",
    "\n",
    "# Extract relevant columns for content analysis\n",
    "content_cols = ['content', 'spoiler_text', 'media_attachments']\n",
    "content_df = merged_df[content_cols].copy()\n",
    "\n",
    "# Combine content columns into a single text column\n",
    "content_df['combined_content'] = content_df['content'].astype(str) + ' ' + content_df['spoiler_text'].astype(str)\n",
    "\n",
    "# Function to extract words from text\n",
    "def extract_words(text):\n",
    "    return [word.lower() for word in text.split()]\n",
    "\n",
    "# Apply the extract_words function to the combined content\n",
    "all_words = content_df['combined_content'].apply(extract_words).explode()\n",
    "\n",
    "# Create a word cloud\n",
    "#wordcloud = WordCloud(width=800, height=400, background_color='white').generate(' '.join(all_words))\n",
    "\n",
    "# Plot the word cloud\n",
    "#plt.figure(figsize=(10, 6))\n",
    "#plt.imshow(wordcloud, interpolation='bilinear')\n",
    "#plt.axis('off')\n",
    "#plt.title('Word Cloud for Combined Content')\n",
    "#plt.show()\n",
    "\n",
    "# Analyze the nature of content (text, media)\n",
    "content_df['has_media'] = content_df['media_attachments'].apply(lambda x: 1 if pd.notna(x) and x != '[]' else 0)\n",
    "\n",
    "# Count the occurrences of each content type\n",
    "content_type_counts = content_df['has_media'].value_counts()\n",
    "\n",
    "# Plot a bar chart for content type distribution\n",
    "plt.figure(figsize=(8, 6))\n",
    "sns.barplot(x=content_type_counts.index, y=content_type_counts.values, palette='viridis')\n",
    "plt.title('Distribution of Content Types')\n",
    "plt.xlabel('Has Media')\n",
    "plt.ylabel('Count')\n",
    "plt.show()"
   ]
  },
  {
   "cell_type": "markdown",
   "id": "6dc70855-a12b-489a-9686-0875041810a8",
   "metadata": {},
   "source": [
    "### User Engagement Analysis"
   ]
  },
  {
   "cell_type": "code",
   "execution_count": null,
   "id": "c283ae20-a255-441d-83e0-fb6b2b2f6d5a",
   "metadata": {
    "tags": []
   },
   "outputs": [],
   "source": [
    "#Convert 'created_at' column to datetime\n",
    "df['created_at'] = pd.to_datetime(df['created_at'])\n",
    "\n",
    "#Resample to get daily engagement metrics\n",
    "daily_engagement = df.resample('D', on='created_at').sum()\n",
    "\n",
    "#Plotting using Plotly graph_objects\n",
    "fig = go.Figure()\n",
    "\n",
    "#Add traces for likes, shares, and comments\n",
    "fig.add_trace(go.Scatter(x=daily_engagement.index, y=daily_engagement['replies_count'], mode='lines+markers', name='Likes'))\n",
    "fig.add_trace(go.Scatter(x=daily_engagement.index, y=daily_engagement['reblogs_count'], mode='lines+markers', name='Shares'))\n",
    "fig.add_trace(go.Scatter(x=daily_engagement.index, y=daily_engagement['favourites_count'], mode='lines+markers', name='Comments'))\n",
    "\n",
    "#Update layout\n",
    "fig.update_layout(\n",
    "    title='Daily Engagement Metrics',\n",
    "    xaxis_title='Date',\n",
    "    yaxis_title='Count'\n",
    ")\n",
    "\n",
    "fig.show()\n",
    "\n",
    "#Follower growth analysis\n",
    "fig_follower = go.Figure()\n",
    "\n",
    "#Add trace for follower count\n",
    "fig_follower.add_trace(go.Scatter(x=df['created_at'], y=df['followers'], mode='lines+markers', name='Followers'))\n",
    "\n",
    "#Update layout\n",
    "fig_follower.update_layout(\n",
    "    title='Follower Growth Over Time',\n",
    "    xaxis_title='Date',\n",
    "    yaxis_title='Follower Count'\n",
    ")\n",
    "\n",
    "fig_follower.show()"
   ]
  },
  {
   "cell_type": "markdown",
   "id": "be329659-5835-4829-8fb3-a7b66e23d5e7",
   "metadata": {},
   "source": [
    "TODO\n",
    "\n",
    "* Check summary statistics i.e., number of retweets ('reblogs_count'), how often did people like/favourite a toot- check if there is different engagement accross different hashtags\n",
    "* Compare engagement across the 10 hashtags.\n",
    "* Come up with a good plot "
   ]
  },
  {
   "cell_type": "code",
   "execution_count": null,
   "id": "27e35072-c567-41f7-8a36-eb315d7f85c9",
   "metadata": {
    "tags": []
   },
   "outputs": [
    {
     "name": "stdout",
     "output_type": "stream",
     "text": [
      "Summary Statistics for User Engagement Metrics:\n",
      "       replies_count  reblogs_count  favourites_count\n",
      "count   19078.000000   19078.000000      19078.000000\n",
      "mean        0.342676       1.840436          0.785879\n",
      "std         0.941972       7.654463          3.410002\n",
      "min         0.000000       0.000000          0.000000\n",
      "25%         0.000000       0.000000          0.000000\n",
      "50%         0.000000       0.412404          0.000000\n",
      "75%         0.366076       2.000000          1.000000\n",
      "max        20.000000     427.000000        203.000000\n"
     ]
    }
   ],
   "source": [
    "# Concatenate the DataFrames in df_list\n",
    "merged_df = pd.concat(df_list_final, ignore_index=True)\n",
    "\n",
    "# Extract relevant columns for engagement analysis\n",
    "engagement_cols = ['replies_count', 'reblogs_count', 'favourites_count']\n",
    "engagement_df = merged_df[['tags'] + engagement_cols].copy()\n",
    "\n",
    "# Extract hashtags from the 'tags' column\n",
    "engagement_df['tags'] = engagement_df['tags'].apply(lambda x: [] if pd.isna(x) else [tag['name'] for tag in eval(x)])\n",
    "\n",
    "# Explode the list of hashtags into separate rows\n",
    "engagement_df = engagement_df.explode('tags')\n",
    "\n",
    "# Group by hashtag and calculate mean engagement metrics\n",
    "engagement_summary = engagement_df.groupby('tags')[engagement_cols].mean()\n",
    "\n",
    "# Print summary statistics\n",
    "print(\"Summary Statistics for User Engagement Metrics:\")\n",
    "print(engagement_summary.describe())\n",
    "\n",
    "# Compare engagement metrics across hashtags using box plots\n",
    "plt.figure(figsize=(12, 8))\n",
    "sns.boxplot(x='tags', y='value', hue='variable', data=pd.melt(engagement_df, id_vars=['tags'], value_vars=engagement_cols))\n",
    "plt.title('Comparison of User Engagement Metrics Across Hashtags')\n",
    "plt.xlabel('Hashtags')\n",
    "plt.ylabel('Count')\n",
    "plt.xticks(rotation=45)\n",
    "plt.legend(title='Engagement Metric')\n",
    "plt.show()"
   ]
  },
  {
   "cell_type": "markdown",
   "id": "340746dc-3afd-4506-ba33-58940588b597",
   "metadata": {},
   "source": [
    "RESULTS/FINDINGS\n",
    "\n",
    "* "
   ]
  },
  {
   "cell_type": "markdown",
   "id": "6f95a903-3cc6-45e1-b6a4-3bfd7b2dcd86",
   "metadata": {},
   "source": [
    "### Language Distribution Analysis\n"
   ]
  },
  {
   "cell_type": "code",
   "execution_count": null,
   "id": "9b2ab4fb-25b2-4f3e-a92c-177b5a68d3d5",
   "metadata": {
    "tags": []
   },
   "outputs": [],
   "source": [
    "# Select data\n",
    "language_distribution = df_milei['language'].value_counts()\n",
    "\n",
    "# Plotting \n",
    "plt.figure(figsize=(10, 6))\n",
    "\n",
    "language_distribution.plot(kind='bar')\n",
    "plt.title('Number of posts per Hashtag #milei in specifc language')\n",
    "plt.xlabel('Language')\n",
    "plt.ylabel('Number of Posts')\n",
    "plt.xticks(rotation=45)\n",
    "plt.grid(axis='y')\n",
    "plt.tight_layout()\n",
    "plt.show()"
   ]
  },
  {
   "cell_type": "code",
   "execution_count": null,
   "id": "cb3b96ab-5b3e-4bef-8fac-2c4714f1eeed",
   "metadata": {},
   "outputs": [],
   "source": []
  },
  {
   "cell_type": "markdown",
   "id": "15c110b5-8bc6-47b3-be87-7ceec0cb83e5",
   "metadata": {},
   "source": [
    "TODO\n",
    "\n",
    "* Analyse which languages are used within these hashtags.\n",
    "* compare languages used amongst all  hashtags: what are the most common languages ?\n",
    "* Make it pretty :)"
   ]
  },
  {
   "cell_type": "markdown",
   "id": "95e3f590-7fa2-4f6b-b2f7-64ed83b22d85",
   "metadata": {},
   "source": [
    "RESULTS/FINDINGS\n",
    "\n",
    "* "
   ]
  },
  {
   "cell_type": "markdown",
   "id": "0846a399-cade-4f0d-beb5-350f1d7ce407",
   "metadata": {},
   "source": [
    "### Content Analysis - Word Cloud"
   ]
  },
  {
   "cell_type": "code",
   "execution_count": null,
   "id": "bfd72720-e61a-4848-9937-c734d937626a",
   "metadata": {
    "scrolled": true,
    "tags": []
   },
   "outputs": [],
   "source": [
    "# Ensure all columns are of string type\n",
    "df_milei['content'] = df_milei['content'].astype(str)\n",
    "df_milei['spoiler_text'] = df_milei['spoiler_text'].astype(str)\n",
    "df_milei['media_attachments'] = df_milei['media_attachments'].astype(str)\n",
    "\n",
    "# Concatenate strings from different columns\n",
    "combined_text = df_milei['content'] + \" \" + df_milei['spoiler_text'] + \" \" + df_milei['media_attachments']\n",
    "\n",
    "# Combine all rows into a single string\n",
    "combined_text_str = combined_text.sum()\n",
    "\n",
    "# Generating word cloud\n",
    "\n",
    "\n",
    "wordcloud = WordCloud(width=800, height=400, background_color='white').generate(combined_text_str)\n",
    "\n",
    "\n",
    "# List of words to exclude\n",
    "stopwords=set(\n",
    "    ['https','href','js','nofollow','noopener','noreferrer','target','blank','class','span','tags','height','width',\n",
    "    'media_attachments','url'])\n",
    "\n",
    "# Generating word cloud with stopwords\n",
    "wordcloud = WordCloud(width=800, height=400, background_color='white',stopwords=stopwords).generate(combined_text_str)\n",
    "\n",
    "# Display word cloud\n",
    "plt.figure(figsize=(10, 5))\n",
    "plt.imshow(wordcloud, interpolation='bilinear')\n",
    "plt.axis(\"off\")\n",
    "plt.show()\n"
   ]
  },
  {
   "cell_type": "markdown",
   "id": "c27b6371-99fe-401f-9640-8499fc59fb57",
   "metadata": {},
   "source": [
    "TODO\n",
    "\n",
    "* Visualize the most common words in posts with these hashtags. with a word cloud\n",
    "* use the cleaned content column from the new cleaned dataframe (from Danielle)\n",
    "* Analyse the results: compare word cloud for different hashtags and all hashtags or what are the most prominent words amongst all toots?"
   ]
  },
  {
   "cell_type": "markdown",
   "id": "cb678b36-cf56-4627-b81a-077f170a5d62",
   "metadata": {},
   "source": [
    "RESULTS/FINDINGS\n",
    "\n",
    "* "
   ]
  },
  {
   "cell_type": "code",
   "execution_count": null,
   "id": "333546b9-aa5a-4bb4-a23a-9c26d0773d52",
   "metadata": {},
   "outputs": [],
   "source": []
  }
 ],
 "metadata": {
  "kernelspec": {
   "display_name": "Python 3 (ipykernel)",
   "language": "python",
   "name": "python3"
  },
  "language_info": {
   "codemirror_mode": {
    "name": "ipython",
    "version": 3
   },
   "file_extension": ".py",
   "mimetype": "text/x-python",
   "name": "python",
   "nbconvert_exporter": "python",
   "pygments_lexer": "ipython3",
   "version": "3.11.5"
  }
 },
 "nbformat": 4,
 "nbformat_minor": 5
}
