{
 "cells": [
  {
   "cell_type": "markdown",
   "id": "1a1d3464-0342-4b52-b760-4801ae39c184",
   "metadata": {},
   "source": [
    "# Importing Libraries"
   ]
  },
  {
   "cell_type": "code",
   "execution_count": 1,
   "id": "69946fe5-7425-4fb8-aa40-e85cf218b7ce",
   "metadata": {
    "tags": []
   },
   "outputs": [],
   "source": [
    "import pandas as pd\n",
    "\n",
    "import matplotlib.pyplot as plt\n",
    "import plotly.graph_objects as go\n",
    "import seaborn as sns\n",
    "from wordcloud import WordCloud\n",
    "\n",
    "from collections import Counter\n"
   ]
  },
  {
   "cell_type": "markdown",
   "id": "774eddb3-a956-445f-8e8f-d59919580092",
   "metadata": {},
   "source": [
    "# Importing Data"
   ]
  },
  {
   "cell_type": "code",
   "execution_count": null,
   "id": "7a0d62a3-bfab-4389-a0a3-d5f88fe13e3d",
   "metadata": {
    "tags": []
   },
   "outputs": [],
   "source": [
    "# These are all data frames without cleaning and specific column selection \n",
    "\n",
    "argentina=pd.read_csv('argentina.csv')\n",
    "gaza=pd.read_csv('gaza.csv')\n",
    "israel=pd.read_csv('israel.csv')\n",
    "milei=pd.read_csv('milei.csv')\n",
    "missuniverse=pd.read_csv('MissUniverseThailand2023.csv')\n",
    "ons=pd.read_csv('ons.csv')\n",
    "spotify=pd.read_csv('spotify.csv')\n",
    "thanksgiving=pd.read_csv('thanksgiving.csv')\n",
    "trump=pd.read_csv('trump.csv')\n",
    "twitter=pd.read_csv('twitter.csv')\n",
    "\n",
    "# List of uncleaned df \n",
    "df_uncleaned_list=[argentina,gaza,israel,milei,ons,spotify,thanksgiving,trump,twitter,missuniverse] "
   ]
  },
  {
   "cell_type": "code",
   "execution_count": null,
   "id": "41dcf629-4b5f-426c-bb1d-401677d764d0",
   "metadata": {
    "tags": []
   },
   "outputs": [],
   "source": [
    "# Chech shape of uncleaned data frames\n",
    "\n",
    "for df in df_uncleaned_list:\n",
    "    print(df.shape)"
   ]
  },
  {
   "cell_type": "markdown",
   "id": "35bf8d3d-36c5-4992-9c13-010542158dea",
   "metadata": {},
   "source": [
    "# Create DF to work with"
   ]
  },
  {
   "cell_type": "code",
   "execution_count": null,
   "id": "46828d95-b8ab-4428-aead-1df86a661206",
   "metadata": {
    "tags": []
   },
   "outputs": [],
   "source": [
    "# List with columns of interest to our analysis\n",
    "\n",
    "column_list=['id', 'created_at', 'in_reply_to_id', 'in_reply_to_account_id','tags','language', 'replies_count', 'reblogs_count', 'favourites_count',\n",
    " 'content','spoiler_text','media_attachments','mentions','account.id', 'account.username','account.display_name', 'account.bot','account.created_at', \n",
    "'account.followers_count', 'account.following_count', 'account.statuses_count', 'account.last_status_at']"
   ]
  },
  {
   "cell_type": "code",
   "execution_count": null,
   "id": "fdf1bf0c-7ba8-4bfb-b230-8b96db0e4a54",
   "metadata": {
    "tags": []
   },
   "outputs": [],
   "source": [
    "# Create dataframes with specific columns form column_list\n",
    "\n",
    "df_argentina=argentina[column_list]\n",
    "df_gaza=gaza[column_list]\n",
    "df_israel=israel[column_list]\n",
    "df_milei=milei[column_list]\n",
    "df_missuniverse=missuniverse[column_list]\n",
    "df_spotify=spotify[column_list]\n",
    "df_thanksgiving=thanksgiving[column_list]\n",
    "df_trump=trump[column_list]\n",
    "df_twitter=twitter[column_list]\n",
    "df_ons=ons[column_list]"
   ]
  },
  {
   "cell_type": "code",
   "execution_count": null,
   "id": "9009cfa4-0b95-45dd-908e-b75df535ff60",
   "metadata": {
    "tags": []
   },
   "outputs": [],
   "source": [
    "# List of data frames with same columns \n",
    "\n",
    "df_list_final=[df_argentina,df_gaza,df_israel,df_milei,df_missuniverse,df_spotify,df_thanksgiving,df_trump,df_twitter,df_ons]"
   ]
  },
  {
   "cell_type": "code",
   "execution_count": null,
   "id": "d1069dcd-721f-4250-8b8d-6a968e4c5081",
   "metadata": {
    "tags": []
   },
   "outputs": [],
   "source": [
    "# Create df from all individual dataframes: note that columns have not been cleaned before\n",
    "\n",
    "df=pd.concat(df_list_final)#%%HTML"
   ]
  },
  {
   "cell_type": "code",
   "execution_count": null,
   "id": "0e9fa220-bab0-4760-8296-13ae1e31ebf1",
   "metadata": {
    "tags": []
   },
   "outputs": [],
   "source": [
    "df.shape"
   ]
  },
  {
   "cell_type": "code",
   "execution_count": null,
   "id": "f6aad433-0e22-4e6b-bb1f-48b126b4bcd3",
   "metadata": {
    "scrolled": true,
    "tags": []
   },
   "outputs": [],
   "source": [
    "# final dataframe with uncleaned olumn 'content' (which stil includes HTML tags etc.)\n",
    "df.columns"
   ]
  },
  {
   "cell_type": "code",
   "execution_count": null,
   "id": "2276a83f-ac27-4b6e-9fb7-e9a745a358f6",
   "metadata": {
    "tags": []
   },
   "outputs": [],
   "source": [
    "# the final cleaned version is to be found in Danielle's repo on github, it is called mastodon_final_v2.csv\n",
    "df_cleaned=pd.read_csv('mastodon_final_v2.csv')"
   ]
  },
  {
   "cell_type": "markdown",
   "id": "abd9e736-e0df-431c-86e5-321ff5be47f7",
   "metadata": {},
   "source": [
    "### Most popular Hashtags amongst sample"
   ]
  },
  {
   "cell_type": "code",
   "execution_count": null,
   "id": "09181650-e6e2-4458-a8f1-2d4fb40c0543",
   "metadata": {
    "tags": []
   },
   "outputs": [],
   "source": [
    "from collections import Counter\n",
    "\n",
    "# Assuming you have already defined df_list\n",
    "# df_list = [argentina, gaza, israel, milei, ons, spotify, thanksgiving, trump, twitter]\n",
    "\n",
    "# Extract hashtags from the 'tags' column in each DataFrame\n",
    "all_hashtags = []\n",
    "\n",
    "for df in df_list_final:\n",
    "    if 'tags' in df.columns:\n",
    "        hashtags = df['tags'].apply(lambda x: [] if pd.isna(x) else [tag['name'] for tag in eval(x)])\n",
    "        all_hashtags.extend(hashtag for hashtags_list in hashtags for hashtag in hashtags_list)\n",
    "\n",
    "# Count the occurrences of each hashtag\n",
    "hashtag_counts = Counter(all_hashtags)\n",
    "\n",
    "# Display the most common hashtags\n",
    "most_common_hashtags = hashtag_counts.most_common(10)  # Change 10 to the desired number of top hashtags\n",
    "for hashtag, count in most_common_hashtags:\n",
    "    print(f'{hashtag}: {count} occurrences')"
   ]
  },
  {
   "cell_type": "markdown",
   "id": "df96acd4-4284-4f3d-bc29-64f31dd65451",
   "metadata": {},
   "source": [
    "TODO\n",
    "\n",
    "- plot this\n",
    "- compare with https://www.twitter-trending.com/worldwide/statistics in a plot - twitter_hastag_list which is ordered by most occurences:: plot this against"
   ]
  },
  {
   "cell_type": "code",
   "execution_count": null,
   "id": "f17188b3-5959-49d2-aeb3-49ac8ba3ca33",
   "metadata": {
    "tags": []
   },
   "outputs": [],
   "source": [
    "#import matplotlib.pyplot as plt\n",
    "#import pandas as pd\n",
    "#from collections import Counter\n",
    "\n",
    "# Assuming you have already defined df_list_final\n",
    "# df_list_final = [argentina, gaza, israel, milei, ons, spotify, thanksgiving, trump, twitter]\n",
    "\n",
    "# Assuming you have already defined the code to extract hashtags and count occurrences\n",
    "\n",
    "# Extract hashtags and count occurrences\n",
    "all_hashtags = []\n",
    "for df in df_list_final:\n",
    "    if 'tags' in df.columns:\n",
    "        hashtags = df['tags'].apply(lambda x: [] if pd.isna(x) else [tag['name'] for tag in eval(x)])\n",
    "        all_hashtags.extend(hashtag for hashtags_list in hashtags for hashtag in hashtags_list)\n",
    "\n",
    "# Count the occurrences of each hashtag\n",
    "hashtag_counts = Counter(all_hashtags)\n",
    "\n",
    "# Display the most common hashtags\n",
    "most_common_hashtags = hashtag_counts.most_common(10)  # Change 10 to the desired number of top hashtags\n",
    "\n",
    "# Create a DataFrame from the most common hashtags\n",
    "df_most_common = pd.DataFrame(most_common_hashtags, columns=['Hashtag', 'Occurrences'])\n",
    "\n",
    "# Plot the data\n",
    "plt.figure(figsize=(10, 6))\n",
    "plt.bar(df_most_common['Hashtag'], df_most_common['Occurrences'], color='skyblue')\n",
    "plt.xlabel('Hashtags')\n",
    "plt.ylabel('Occurrences')\n",
    "plt.title('Top Hashtags')\n",
    "plt.xticks(rotation=45, ha='right')\n",
    "plt.tight_layout()\n",
    "\n",
    "# Show the plot\n",
    "plt.show()"
   ]
  },
  {
   "cell_type": "code",
   "execution_count": null,
   "id": "3ebd5e95-462a-4a0d-8d21-bbe4bd630013",
   "metadata": {},
   "outputs": [],
   "source": []
  },
  {
   "cell_type": "markdown",
   "id": "008b7121-5eda-4945-88f6-f09b8489c69c",
   "metadata": {},
   "source": [
    "### Daily Posts Trend for Hashtag #milei"
   ]
  },
  {
   "cell_type": "code",
   "execution_count": null,
   "id": "85dfc325-b76c-40ab-a62e-ec7a998f546e",
   "metadata": {
    "tags": []
   },
   "outputs": [],
   "source": [
    "df.created_at"
   ]
  },
  {
   "cell_type": "code",
   "execution_count": null,
   "id": "d94ee50f-0371-4646-95a4-710f53bb213d",
   "metadata": {
    "tags": []
   },
   "outputs": [],
   "source": [
    "# Convert 'created_at' column to datetime\n",
    "df_milei['created_at'] = pd.to_datetime(df_milei['created_at'])\n",
    "\n",
    "# Resample to get daily counts\n",
    "daily_counts = df_milei.resample('D', on='created_at').count()\n",
    "\n",
    "# Plotting\n",
    "plt.figure(figsize=(10, 6))\n",
    "plt.plot(daily_counts['id'], marker='o', linestyle='-')\n",
    "plt.title('Daily Posts Trend for Hashtag #miley')\n",
    "plt.xlabel('Date')\n",
    "plt.ylabel('Number of Posts')\n",
    "plt.xticks(rotation=45)\n",
    "plt.grid(True)\n",
    "plt.tight_layout()\n",
    "plt.show()\n"
   ]
  },
  {
   "cell_type": "code",
   "execution_count": null,
   "id": "31a79913-462d-4a97-b4de-32d6691f3371",
   "metadata": {
    "tags": []
   },
   "outputs": [],
   "source": [
    "# # Convert 'created_at' column to datetime\n",
    "# df_milei['created_at'] = pd.to_datetime(df_milei['created_at'])\n",
    "\n",
    "# # Resample to get daily counts\n",
    "# daily_counts = df_milei.resample('D', on='created_at').count()\n",
    "\n",
    "# Create Plotly figure\n",
    "fig = go.Figure()\n",
    "\n",
    "# Add scatter (line plot) to the figure\n",
    "fig.add_trace(go.Scatter(x=daily_counts.index, \n",
    "                         y=daily_counts['id'], \n",
    "                         mode='lines+markers', \n",
    "                         name='posts'))\n",
    "\n",
    "# Update title and axis \n",
    "fig.update_layout(\n",
    "    title='Daily Posts Trend for Hashtag #milei',\n",
    "    xaxis_title='Date',\n",
    "    yaxis_title='Number of Posts',\n",
    "    xaxis=dict(tickangle=45),\n",
    "    template=\"plotly_white\"  \n",
    ")\n",
    "\n",
    "fig.show()\n"
   ]
  },
  {
   "cell_type": "markdown",
   "id": "cbda3179-cfe6-45c9-a9b3-4bd9d9a6ab12",
   "metadata": {},
   "source": [
    "TODO\n",
    "\n",
    "* Analyse all hastags individually, check when posts with hashtags were most active.\n",
    "* Find reasons for this: e.g. is it due to events like elections?\n",
    "* Make it pretty :) highlight important events with colors, or arrows or whatever suitable \n"
   ]
  },
  {
   "cell_type": "markdown",
   "id": "7c1bd407-d86a-46c7-acf1-75e7a41b1463",
   "metadata": {},
   "source": [
    "RESULTS/FINDINGS\n",
    "\n"
   ]
  },
  {
   "cell_type": "markdown",
   "id": "aa11ac99-6cfd-4dd0-b458-a9187882fcd0",
   "metadata": {},
   "source": [
    "Content Analysis (content, spoiler_text, media_attachments)\n",
    "Visualize the most common words in posts with these hashtags. (word cloud?)\n",
    "Analyse the nature of content e.g. text, media etc."
   ]
  },
  {
   "cell_type": "code",
   "execution_count": null,
   "id": "03390405-b010-4191-a9df-f19eda50d2d8",
   "metadata": {
    "tags": []
   },
   "outputs": [],
   "source": [
    "#import pandas as pd\n",
    "#import matplotlib.pyplot as plt\n",
    "#from wordcloud import WordCloud\n",
    "#from collections import Counter\n",
    "#import seaborn as sns\n",
    "\n",
    "# Assuming df_list is a list containing DataFrames for the 10 hashtags\n",
    "df_list_final=[df_argentina,df_gaza,df_israel,df_milei,df_missuniverse,df_spotify,df_thanksgiving,df_trump,df_twitter,df_ons]\n",
    "# Concatenate the DataFrames in df_list\n",
    "merged_df = pd.concat(df_list_final, ignore_index=True)\n",
    "\n",
    "# Extract relevant columns for content analysis\n",
    "content_cols = ['content', 'spoiler_text', 'media_attachments']\n",
    "content_df = merged_df[content_cols].copy()\n",
    "\n",
    "# Combine content columns into a single text column\n",
    "content_df['combined_content'] = content_df['content'].astype(str) + ' ' + content_df['spoiler_text'].astype(str)\n",
    "\n",
    "# Function to extract words from text\n",
    "def extract_words(text):\n",
    "    return [word.lower() for word in text.split()]\n",
    "\n",
    "# Apply the extract_words function to the combined content\n",
    "all_words = content_df['combined_content'].apply(extract_words).explode()\n",
    "\n",
    "# Create a word cloud\n",
    "#wordcloud = WordCloud(width=800, height=400, background_color='white').generate(' '.join(all_words))\n",
    "\n",
    "# Plot the word cloud\n",
    "#plt.figure(figsize=(10, 6))\n",
    "#plt.imshow(wordcloud, interpolation='bilinear')\n",
    "#plt.axis('off')\n",
    "#plt.title('Word Cloud for Combined Content')\n",
    "#plt.show()\n",
    "\n",
    "# Analyze the nature of content (text, media)\n",
    "content_df['has_media'] = content_df['media_attachments'].apply(lambda x: 1 if pd.notna(x) and x != '[]' else 0)\n",
    "\n",
    "# Count the occurrences of each content type\n",
    "content_type_counts = content_df['has_media'].value_counts()\n",
    "\n",
    "# Plot a bar chart for content type distribution\n",
    "plt.figure(figsize=(8, 6))\n",
    "sns.barplot(x=content_type_counts.index, y=content_type_counts.values, palette='viridis')\n",
    "plt.title('Distribution of Content Types')\n",
    "plt.xlabel('Has Media')\n",
    "plt.ylabel('Count')\n",
    "plt.show()"
   ]
  },
  {
   "cell_type": "markdown",
   "id": "6dc70855-a12b-489a-9686-0875041810a8",
   "metadata": {},
   "source": [
    "### User Engagement Analysis"
   ]
  },
  {
   "cell_type": "code",
   "execution_count": null,
   "id": "c283ae20-a255-441d-83e0-fb6b2b2f6d5a",
   "metadata": {
    "tags": []
   },
   "outputs": [],
   "source": [
    "#Convert 'created_at' column to datetime\n",
    "df['created_at'] = pd.to_datetime(df['created_at'])\n",
    "\n",
    "#Resample to get daily engagement metrics\n",
    "daily_engagement = df.resample('D', on='created_at').sum()\n",
    "\n",
    "#Plotting using Plotly graph_objects\n",
    "fig = go.Figure()\n",
    "\n",
    "#Add traces for likes, shares, and comments\n",
    "fig.add_trace(go.Scatter(x=daily_engagement.index, y=daily_engagement['replies_count'], mode='lines+markers', name='Likes'))\n",
    "fig.add_trace(go.Scatter(x=daily_engagement.index, y=daily_engagement['reblogs_count'], mode='lines+markers', name='Shares'))\n",
    "fig.add_trace(go.Scatter(x=daily_engagement.index, y=daily_engagement['favourites_count'], mode='lines+markers', name='Comments'))\n",
    "\n",
    "#Update layout\n",
    "fig.update_layout(\n",
    "    title='Daily Engagement Metrics',\n",
    "    xaxis_title='Date',\n",
    "    yaxis_title='Count'\n",
    ")\n",
    "\n",
    "fig.show()\n",
    "\n",
    "#Follower growth analysis\n",
    "fig_follower = go.Figure()\n",
    "\n",
    "#Add trace for follower count\n",
    "fig_follower.add_trace(go.Scatter(x=df['created_at'], y=df['followers'], mode='lines+markers', name='Followers'))\n",
    "\n",
    "#Update layout\n",
    "fig_follower.update_layout(\n",
    "    title='Follower Growth Over Time',\n",
    "    xaxis_title='Date',\n",
    "    yaxis_title='Follower Count'\n",
    ")\n",
    "\n",
    "fig_follower.show()"
   ]
  },
  {
   "cell_type": "markdown",
   "id": "be329659-5835-4829-8fb3-a7b66e23d5e7",
   "metadata": {},
   "source": [
    "TODO\n",
    "\n",
    "* Check summary statistics i.e., number of retweets ('reblogs_count'), how often did people like/favourite a toot- check if there is different engagement accross different hashtags\n",
    "* Compare engagement across the 10 hashtags.\n",
    "* Come up with a good plot "
   ]
  },
  {
   "cell_type": "code",
   "execution_count": null,
   "id": "27e35072-c567-41f7-8a36-eb315d7f85c9",
   "metadata": {
    "tags": []
   },
   "outputs": [],
   "source": [
    "# Concatenate the DataFrames in df_list\n",
    "merged_df = pd.concat(df_list_final, ignore_index=True)\n",
    "\n",
    "# Extract relevant columns for engagement analysis\n",
    "engagement_cols = ['replies_count', 'reblogs_count', 'favourites_count']\n",
    "engagement_df = merged_df[['tags'] + engagement_cols].copy()\n",
    "\n",
    "# Extract hashtags from the 'tags' column\n",
    "engagement_df['tags'] = engagement_df['tags'].apply(lambda x: [] if pd.isna(x) else [tag['name'] for tag in eval(x)])\n",
    "\n",
    "# Explode the list of hashtags into separate rows\n",
    "engagement_df = engagement_df.explode('tags')\n",
    "\n",
    "# Group by hashtag and calculate mean engagement metrics\n",
    "engagement_summary = engagement_df.groupby('tags')[engagement_cols].mean()\n",
    "\n",
    "# Print summary statistics\n",
    "print(\"Summary Statistics for User Engagement Metrics:\")\n",
    "print(engagement_summary.describe())\n",
    "\n",
    "# Compare engagement metrics across hashtags using box plots\n",
    "plt.figure(figsize=(12, 8))\n",
    "sns.boxplot(x='tags', y='value', hue='variable', data=pd.melt(engagement_df, id_vars=['tags'], value_vars=engagement_cols))\n",
    "plt.title('Comparison of User Engagement Metrics Across Hashtags')\n",
    "plt.xlabel('Hashtags')\n",
    "plt.ylabel('Count')\n",
    "plt.xticks(rotation=45)\n",
    "plt.legend(title='Engagement Metric')\n",
    "plt.show()"
   ]
  },
  {
   "cell_type": "markdown",
   "id": "04f497d4-8e85-4f8f-bd92-1bb065c609f9",
   "metadata": {},
   "source": [
    "df_argentina=argentina[column_list]\n",
    "df_gaza=gaza[column_list]\n",
    "df_israel=israel[column_list]\n",
    "df_milei=milei[column_list]\n",
    "df_missuniverse=missuniverse[column_list]\n",
    "df_spotify=spotify[column_list]\n",
    "df_thanksgiving=thanksgiving[column_list]\n",
    "df_trump=trump[column_list]\n",
    "df_twitter=twitter[column_list]\n",
    "df_ons=ons[column_list]"
   ]
  },
  {
   "cell_type": "markdown",
   "id": "340746dc-3afd-4506-ba33-58940588b597",
   "metadata": {},
   "source": [
    "RESULTS/FINDINGS\n",
    "\n",
    "* "
   ]
  },
  {
   "cell_type": "markdown",
   "id": "6f95a903-3cc6-45e1-b6a4-3bfd7b2dcd86",
   "metadata": {},
   "source": [
    "### Language Distribution Analysis\n"
   ]
  },
  {
   "cell_type": "code",
   "execution_count": null,
   "id": "9b2ab4fb-25b2-4f3e-a92c-177b5a68d3d5",
   "metadata": {
    "tags": []
   },
   "outputs": [],
   "source": [
    "# Select data\n",
    "language_distribution = df_milei['language'].value_counts()\n",
    "\n",
    "# Plotting \n",
    "plt.figure(figsize=(10, 6))\n",
    "\n",
    "language_distribution.plot(kind='bar')\n",
    "plt.title('Number of posts per Hashtag #milei in specifc language')\n",
    "plt.xlabel('Language')\n",
    "plt.ylabel('Number of Posts')\n",
    "plt.xticks(rotation=45)\n",
    "plt.grid(axis='y')\n",
    "plt.tight_layout()\n",
    "plt.show()"
   ]
  },
  {
   "cell_type": "code",
   "execution_count": null,
   "id": "cb3b96ab-5b3e-4bef-8fac-2c4714f1eeed",
   "metadata": {},
   "outputs": [],
   "source": [
    "# Select data\n",
    "language_distribution = df_argentina['language'].value_counts()\n",
    "\n",
    "# Plotting \n",
    "plt.figure(figsize=(10, 6))\n",
    "\n",
    "language_distribution.plot(kind='bar')\n",
    "plt.title('Number of posts per Hashtag #Argentina in specifc language')\n",
    "plt.xlabel('Language')\n",
    "plt.ylabel('Number of Posts')\n",
    "plt.xticks(rotation=45)\n",
    "plt.grid(axis='y')\n",
    "plt.tight_layout()\n",
    "plt.show()"
   ]
  },
  {
   "cell_type": "code",
   "execution_count": null,
   "id": "a94579f8-c44d-4e95-9756-2bd216984cbb",
   "metadata": {},
   "outputs": [],
   "source": []
  },
  {
   "cell_type": "markdown",
   "id": "15c110b5-8bc6-47b3-be87-7ceec0cb83e5",
   "metadata": {},
   "source": [
    "TODO\n",
    "\n",
    "* Analyse which languages are used within these hashtags.\n",
    "* compare languages used amongst all  hashtags: what are the most common languages ?\n",
    "* Make it pretty :)"
   ]
  },
  {
   "cell_type": "markdown",
   "id": "95e3f590-7fa2-4f6b-b2f7-64ed83b22d85",
   "metadata": {},
   "source": [
    "RESULTS/FINDINGS\n",
    "\n",
    "* "
   ]
  },
  {
   "cell_type": "markdown",
   "id": "0846a399-cade-4f0d-beb5-350f1d7ce407",
   "metadata": {},
   "source": [
    "### Content Analysis - Word Cloud"
   ]
  },
  {
   "cell_type": "code",
   "execution_count": null,
   "id": "bfd72720-e61a-4848-9937-c734d937626a",
   "metadata": {
    "scrolled": true,
    "tags": []
   },
   "outputs": [],
   "source": [
    "# Ensure all columns are of string type\n",
    "df_milei['content'] = df_milei['content'].astype(str)\n",
    "df_milei['spoiler_text'] = df_milei['spoiler_text'].astype(str)\n",
    "df_milei['media_attachments'] = df_milei['media_attachments'].astype(str)\n",
    "\n",
    "# Concatenate strings from different columns\n",
    "combined_text = df_milei['content'] + \" \" + df_milei['spoiler_text'] + \" \" + df_milei['media_attachments']\n",
    "\n",
    "# Combine all rows into a single string\n",
    "combined_text_str = combined_text.sum()\n",
    "\n",
    "# Generating word cloud\n",
    "\n",
    "\n",
    "wordcloud = WordCloud(width=800, height=400, background_color='white').generate(combined_text_str)\n",
    "\n",
    "\n",
    "# List of words to exclude\n",
    "stopwords=set(\n",
    "    ['https','href','js','nofollow','noopener','noreferrer','target','blank','class','span','tags','height','width',\n",
    "    'media_attachments','url'])\n",
    "\n",
    "# Generating word cloud with stopwords\n",
    "wordcloud = WordCloud(width=800, height=400, background_color='white',stopwords=stopwords).generate(combined_text_str)\n",
    "\n",
    "# Display word cloud\n",
    "plt.figure(figsize=(10, 5))\n",
    "plt.imshow(wordcloud, interpolation='bilinear')\n",
    "plt.axis(\"off\")\n",
    "plt.show()\n"
   ]
  },
  {
   "cell_type": "markdown",
   "id": "c27b6371-99fe-401f-9640-8499fc59fb57",
   "metadata": {},
   "source": [
    "TODO\n",
    "\n",
    "* Visualize the most common words in posts with these hashtags. with a word cloud\n",
    "* use the cleaned content column from the new cleaned dataframe (from Danielle)\n",
    "* Analyse the results: compare word cloud for different hashtags and all hashtags or what are the most prominent words amongst all toots?"
   ]
  },
  {
   "cell_type": "markdown",
   "id": "cb678b36-cf56-4627-b81a-077f170a5d62",
   "metadata": {},
   "source": [
    "RESULTS/FINDINGS\n",
    "\n",
    "* "
   ]
  },
  {
   "cell_type": "code",
   "execution_count": null,
   "id": "333546b9-aa5a-4bb4-a23a-9c26d0773d52",
   "metadata": {},
   "outputs": [],
   "source": [
    "# Convert 'account.created_at' to datetime\n",
    "for df in df_list_final:\n",
    "    df['account.created_at'] = pd.to_datetime(df['account.created_at'])\n",
    "\n",
    "# Calculate account ages\n",
    "for df in df_list_final:\n",
    "    df['account_age'] = (pd.to_datetime('today') - df['account.created_at']).dt.days\n",
    "\n",
    "# Plot age distribution\n",
    "plt.figure(figsize=(10, 6))\n",
    "for df, hashtag in zip(df_list_final, ['argentina', 'gaza', 'israel', 'milei', 'missuniverse', 'spotify', 'thanksgiving', 'trump', 'twitter', 'ons']):\n",
    "    sns.histplot(df['account_age'], kde=True, label=f'#{hashtag}', alpha=0.7)\n",
    "\n",
    "plt.title('Account Age Distribution for Hashtags')\n",
    "plt.xlabel('Account Age (Days)')\n",
    "plt.ylabel('Frequency')\n",
    "plt.legend()\n",
    "plt.show()"
   ]
  },
  {
   "cell_type": "code",
   "execution_count": 2,
   "id": "685d907b-219e-44da-9f49-50510f4d66b0",
   "metadata": {
    "tags": []
   },
   "outputs": [
    {
     "data": {
      "image/png": "[encoded data removed]",
      "text/plain": [
       "<Figure size 1000x600 with 1 Axes>"
      ]
     },
     "metadata": {},
     "output_type": "display_data"
    }
   ],
   "source": [
    "import pandas as pd\n",
    "import matplotlib.pyplot as plt\n",
    "import seaborn as sns\n",
    "\n",
    "# Load data\n",
    "mastodon_final = pd.read_csv('Mastodon_Final.csv')\n",
    "\n",
    "# Convert 'created_at' to datetime if not already and localize to UTC\n",
    "mastodon_final['account.created_at'] = pd.to_datetime(mastodon_final['account.created_at'], utc=True)\n",
    "\n",
    "# Calculate account ages\n",
    "mastodon_final['account_age'] = (pd.to_datetime('today', utc=True) - mastodon_final['account.created_at']).dt.days\n",
    "\n",
    "# Plot age distribution\n",
    "plt.figure(figsize=(10, 6))\n",
    "for hashtag in ['argentina', 'gaza', 'israel', 'milei', 'missuniverse', 'spotify', 'thanksgiving', 'trump', 'twitter', 'ons']:\n",
    "    hashtag_df = mastodon_final[mastodon_final['tags'].str.contains(hashtag, case=False, na=False)]\n",
    "    sns.histplot(hashtag_df['account_age'], kde=True, label=f'#{hashtag}', alpha=0.7)\n",
    "\n",
    "plt.title('Account Age Distribution for Hashtags')\n",
    "plt.xlabel('Account Age (Days)')\n",
    "plt.ylabel('Frequency')\n",
    "plt.legend()\n",
    "plt.show()"
   ]
  },
  {
   "cell_type": "code",
   "execution_count": null,
   "id": "73f3c875-b298-4d45-8cc4-3540f7ef0db2",
   "metadata": {},
   "outputs": [],
   "source": [
    "#import pandas as pd\n",
    "import plotly.express as px\n",
    "\n",
    "# Load data\n",
    "mastodon_final = pd.read_csv('Mastodon_Final.csv')\n",
    "\n",
    "# Convert 'created_at' to datetime if not already and localize to UTC\n",
    "mastodon_final['account.created_at'] = pd.to_datetime(mastodon_final['account.created_at'], utc=True)\n",
    "\n",
    "# Calculate account ages\n",
    "mastodon_final['account_age'] = (pd.to_datetime('today', utc=True) - mastodon_final['account.created_at']).dt.days\n",
    "\n",
    "# Create a Plotly histogram\n",
    "fig = px.histogram(mastodon_final,\n",
    "                   x='account_age',\n",
    "                   color='tags',\n",
    "                   labels={'account_age': 'Account Age (Days)', 'tags': 'Hashtag'},\n",
    "                   marginal='box',  # Add box plot on the marginal axis\n",
    "                   opacity=0.7,\n",
    "                   nbins=30  # Adjust the number of bins as needed\n",
    "                   )\n",
    "\n",
    "# Update layout\n",
    "fig.update_layout(\n",
    "    title='Account Age Distribution for Hashtags',\n",
    "    xaxis_title='Account Age (Days)',\n",
    "    yaxis_title='Frequency',\n",
    "    barmode='overlay'  # Overlay the histograms for different hashtags\n",
    ")\n",
    "\n",
    "# Show the plot\n",
    "fig.show()"
   ]
  },
  {
   "cell_type": "code",
   "execution_count": null,
   "id": "fb3c49c1-98c4-47c2-b939-1a63fbef2d69",
   "metadata": {},
   "outputs": [],
   "source": []
  }
 ],
 "metadata": {
  "kernelspec": {
   "display_name": "Python 3 (ipykernel)",
   "language": "python",
   "name": "python3"
  },
  "language_info": {
   "codemirror_mode": {
    "name": "ipython",
    "version": 3
   },
   "file_extension": ".py",
   "mimetype": "text/x-python",
   "name": "python",
   "nbconvert_exporter": "python",
   "pygments_lexer": "ipython3",
   "version": "3.11.5"
  }
 },
 "nbformat": 4,
 "nbformat_minor": 5
}
