{
 "cells": [
  {
   "cell_type": "code",
   "execution_count": 13,
   "id": "adc92c05-1596-4f08-bd97-ca1b0bfc6372",
   "metadata": {
    "tags": []
   },
   "outputs": [],
   "source": [
    "import json\n",
    "import requests\n",
    "import pandas as pd"
   ]
  },
  {
   "cell_type": "code",
   "execution_count": 14,
   "id": "7b8b98ca-587a-4606-ad2e-433f023468a2",
   "metadata": {
    "tags": []
   },
   "outputs": [],
   "source": [
    "hashtag = 'coffee'\n",
    "URL = f'https://mastodon.social/api/v1/timelines/tag/{hashtag}'\n",
    "params = {\n",
    "    'limit': 40\n",
    "}"
   ]
  },
  {
   "cell_type": "code",
   "execution_count": null,
   "id": "4f2cf174-39d3-4cd7-bbea-6323d1031e21",
   "metadata": {
    "tags": []
   },
   "outputs": [],
   "source": [
    "since = pd.Timestamp('now', tz='utc') - pd.DateOffset(hour=1)\n",
    "is_end = False\n",
    "\n",
    "results = []\n",
    "\n",
    "while True:\n",
    "    r = requests.get(URL, params=params)\n",
    "    toots = json.loads(r.text)\n",
    "\n",
    "    if len(toots) == 0:\n",
    "        break\n",
    "    \n",
    "    for t in toots:\n",
    "        since = pd.Timestamp('2022-01-01', tz='utc') - pd.DateOffset(months=20)\n",
    "        #timestamp = pd.Timestamp(t['created_at'], tz='utc')\n",
    "        if timestamp <= since:\n",
    "            is_end = True\n",
    "            break\n",
    "            \n",
    "        results.append(t)\n",
    "    \n",
    "    if is_end:\n",
    "        break\n",
    "    \n",
    "    max_id = toots[-1]['id']\n",
    "    params['max_id'] = max_id"
   ]
  },
  {
   "cell_type": "code",
   "execution_count": null,
   "id": "13ffda8c-301b-423f-8c29-b0ac96dd3b8b",
   "metadata": {
    "tags": []
   },
   "outputs": [],
   "source": [
    "df = pd.DataFrame(results)"
   ]
  },
  {
   "cell_type": "code",
   "execution_count": null,
   "id": "8671cb1b-ed96-4844-9109-8390f875ed24",
   "metadata": {
    "tags": []
   },
   "outputs": [],
   "source": [
    "df"
   ]
  },
  {
   "cell_type": "code",
   "execution_count": null,
   "id": "d0dfbce7-fc45-4cca-84f1-07834e66b5c4",
   "metadata": {},
   "outputs": [],
   "source": []
  }
 ],
 "metadata": {
  "kernelspec": {
   "display_name": "Python 3 (ipykernel)",
   "language": "python",
   "name": "python3"
  },
  "language_info": {
   "codemirror_mode": {
    "name": "ipython",
    "version": 3
   },
   "file_extension": ".py",
   "mimetype": "text/x-python",
   "name": "python",
   "nbconvert_exporter": "python",
   "pygments_lexer": "ipython3",
   "version": "3.11.5"
  }
 },
 "nbformat": 4,
 "nbformat_minor": 5
}
